{
 "cells": [
  {
   "attachments": {},
   "cell_type": "markdown",
   "metadata": {},
   "source": [
    "### NoSQL DB - (Not Only Structured Query Language) -- MongoDB"
   ]
  },
  {
   "cell_type": "code",
   "execution_count": 1,
   "metadata": {},
   "outputs": [],
   "source": [
    "import pymongo"
   ]
  },
  {
   "cell_type": "code",
   "execution_count": 2,
   "metadata": {},
   "outputs": [],
   "source": [
    "# first step is to create a connection to a mongoDB instance\n",
    "\n",
    "uri = 'mongodb URI'       # the URI can be copied from the mongoDB website\n",
    "client = pymongo.MongoClient(uri) "
   ]
  },
  {
   "cell_type": "code",
   "execution_count": 3,
   "metadata": {},
   "outputs": [
    {
     "data": {
      "text/plain": [
       "{'ok': 1}"
      ]
     },
     "execution_count": 3,
     "metadata": {},
     "output_type": "execute_result"
    }
   ],
   "source": [
    "# sends a ping command to check if the connection is successful and returns the response\n",
    "client.admin.command('ping')"
   ]
  },
  {
   "cell_type": "code",
   "execution_count": 4,
   "metadata": {},
   "outputs": [],
   "source": [
    "# client.test creates a Database named test\n",
    "db = client.test\n",
    "\n",
    "\n",
    "# client['sample'] creates a Database named 'sampleDB'\n",
    "db = client['sampleDB']"
   ]
  },
  {
   "cell_type": "code",
   "execution_count": 5,
   "metadata": {},
   "outputs": [],
   "source": [
    "# db.test creates a Collection named test\n",
    "db.test\n",
    "\n",
    "\n",
    "# db['sample'] also creates a collection named sampleCollection\n",
    "coll = db['sampleCollection']"
   ]
  },
  {
   "attachments": {},
   "cell_type": "markdown",
   "metadata": {},
   "source": [
    "> #### Collections and databases are created by MongoDB only when the first document is inserted into them."
   ]
  },
  {
   "cell_type": "code",
   "execution_count": 6,
   "metadata": {},
   "outputs": [
    {
     "name": "stdout",
     "output_type": "stream",
     "text": [
      "sampleDB\n",
      "sampleCollection\n"
     ]
    }
   ],
   "source": [
    "# to get the name of the database or collection\n",
    "print(db.name)\n",
    "print(coll.name)"
   ]
  },
  {
   "attachments": {},
   "cell_type": "markdown",
   "metadata": {},
   "source": [
    "### **Database and Collection methods**\n",
    "| Name | Description |\n",
    "| ---- | ----------- |\n",
    "| `client.list_database_names` | lists names of databases |\n",
    "| `db.drop_collection()`<br> `collection.drop()` | drops a collection |\n",
    "| `db.name` | returns the name of database |\n",
    "| `db.list_collections()` | returns cursor over all the collections |\n",
    "| `db.list_collection_names()` | returns names of all the collections |\n",
    "| `db.create_collection()` | used to create collection with specific options |\n",
    "| `collection.rename()`| rename the collection |\n",
    "| `collection.count_documents()` | used to find number of documents matching the criteria |"
   ]
  },
  {
   "attachments": {},
   "cell_type": "markdown",
   "metadata": {},
   "source": [
    "### **Insert Operations**\n",
    "- mongoDB automatically assigns id to inserting documents\n",
    "- alternatively we can assign id to inserting documents by adding **_id** element inside the document."
   ]
  },
  {
   "attachments": {},
   "cell_type": "markdown",
   "metadata": {},
   "source": [
    "There are two kinds of insert operations:\n",
    "- `insert_one()`\n",
    "- `insert_many()`"
   ]
  },
  {
   "cell_type": "code",
   "execution_count": 24,
   "metadata": {},
   "outputs": [
    {
     "data": {
      "text/plain": [
       "<pymongo.results.InsertOneResult at 0x1fa0617dae0>"
      ]
     },
     "execution_count": 24,
     "metadata": {},
     "output_type": "execute_result"
    }
   ],
   "source": [
    "# examples from : MongoDB manual\n",
    "\n",
    "coll.insert_one(\n",
    "    {\n",
    "        \"_id\":1,\n",
    "        \"item\": \"canvas\",\n",
    "        \"qty\": 100,\n",
    "        \"tags\": [\"cotton\"],\n",
    "        \"size\": {\"h\": 28, \"w\": 35.5, \"uom\": \"cm\"},\n",
    "    }\n",
    ")"
   ]
  },
  {
   "cell_type": "code",
   "execution_count": 25,
   "metadata": {},
   "outputs": [],
   "source": [
    "ins = coll.insert_many(\n",
    "    [\n",
    "        {   \n",
    "            \"_id\":2,\n",
    "            \"item\": \"journal\",\n",
    "            \"qty\": 25,\n",
    "            \"size\": {\"h\": 14, \"w\": 21, \"uom\": \"cm\"},\n",
    "            \"status\": \"A\",\n",
    "        },\n",
    "        {\n",
    "            \"item\": \"notebook\",\n",
    "            \"qty\": 50,\n",
    "            \"size\": {\"h\": 8.5, \"w\": 11, \"uom\": \"in\"},\n",
    "            \"status\": \"A\",\n",
    "        },\n",
    "        {\n",
    "            \"item\": \"paper\",\n",
    "            \"qty\": 100,\n",
    "            \"size\": {\"h\": 8.5, \"w\": 11, \"uom\": \"in\"},\n",
    "            \"status\": \"D\",\n",
    "        },\n",
    "        {\n",
    "            \"item\": \"planner\",\n",
    "            \"qty\": 75,\n",
    "            \"size\": {\"h\": 22.85, \"w\": 30, \"uom\": \"cm\"},\n",
    "            \"status\": \"D\",\n",
    "        },\n",
    "        {\n",
    "            \"item\": \"postcard\",\n",
    "            \"qty\": 45,\n",
    "            \"size\": {\"h\": 10, \"w\": 15.25, \"uom\": \"cm\"},\n",
    "            \"status\": \"A\",\n",
    "        },\n",
    "    ]\n",
    ")"
   ]
  },
  {
   "cell_type": "code",
   "execution_count": 26,
   "metadata": {},
   "outputs": [
    {
     "data": {
      "text/plain": [
       "[2,\n",
       " ObjectId('64415b414df9367e46657183'),\n",
       " ObjectId('64415b414df9367e46657184'),\n",
       " ObjectId('64415b414df9367e46657185'),\n",
       " ObjectId('64415b414df9367e46657186')]"
      ]
     },
     "execution_count": 26,
     "metadata": {},
     "output_type": "execute_result"
    }
   ],
   "source": [
    "# the inserted id can be viewed from the Insert Result\n",
    "\n",
    "ins.inserted_ids"
   ]
  },
  {
   "attachments": {},
   "cell_type": "markdown",
   "metadata": {},
   "source": [
    "### **Query Operations**\n",
    "- `find()`\n",
    "- `find_one()`\n",
    "- `find_raw_batches()`\n",
    ": *retrieve batches of raw BSON*"
   ]
  },
  {
   "cell_type": "code",
   "execution_count": 15,
   "metadata": {},
   "outputs": [
    {
     "name": "stdout",
     "output_type": "stream",
     "text": [
      "{'_id': ObjectId('64415b414df9367e46657184'), 'item': 'paper', 'qty': 100, 'size': {'h': 8.5, 'w': 11, 'uom': 'in'}, 'status': 'D'}\n",
      "{'_id': ObjectId('64415b414df9367e46657185'), 'item': 'planner', 'qty': 75, 'size': {'h': 22.85, 'w': 30, 'uom': 'cm'}, 'status': 'D'}\n"
     ]
    }
   ],
   "source": [
    "# to select all documents in the collection:  \n",
    "coll.find({})\n",
    "\n",
    "\n",
    "# documents with status D\n",
    "cursor = coll.find({\"status\": \"D\"})\n",
    "for i in cursor:\n",
    "    print(i)"
   ]
  },
  {
   "cell_type": "code",
   "execution_count": 8,
   "metadata": {},
   "outputs": [
    {
     "data": {
      "text/plain": [
       "{'_id': 2,\n",
       " 'item': 'journal',\n",
       " 'qty': 25,\n",
       " 'size': {'h': 14, 'w': 21, 'uom': 'cm'},\n",
       " 'status': 'A'}"
      ]
     },
     "execution_count": 8,
     "metadata": {},
     "output_type": "execute_result"
    }
   ],
   "source": [
    "# using query operator $lt\n",
    "coll.find_one({\"status\": \"A\", \"qty\": {\"$lt\": 30}})"
   ]
  },
  {
   "attachments": {},
   "cell_type": "markdown",
   "metadata": {},
   "source": [
    "#### **Query operators**\n",
    "Query operators help in specifying conditions.  \n",
    "There are various query operators:  \n",
    "- **comparison**\n",
    "    \n",
    "    | Name      | Description |\n",
    "    | --------- | ----------- |\n",
    "    | $eq | Matches values that are equal to a specified value.|\n",
    "    | $gt | Matches values that are greater than a specified value. |\n",
    "    | $gte | Matches values that are greater than or equal to a specified value. |\n",
    "    | $in | Matches any of the values specified in an array. |\n",
    "    | $lt | Matches values that are less than a specified value. |\n",
    "    | $lte | Matches values that are less than or equal to a specified value. |\n",
    "    | $ne | Matches all values that are not equal to a specified value. |\n",
    "    | $nin | Matches none of the values specified in an array. |\n",
    "&nbsp;\n",
    "- **logical**  \n",
    "  \n",
    "    | Name     | Description |\n",
    "    |----------|-------------|   \n",
    "    | $and | Joins query clauses with a logical AND returns all documents that match the conditions of both clauses |.\n",
    "    | $not | Inverts the effect of a query expression and returns documents that do not match the query expression. |\n",
    "    | $nor | Joins query clauses with a logical NOR returns all documents that fail to match both clauses. |\n",
    "    | $or | Joins query clauses with a logical OR returns all documents that match the conditions of either clause. |\n",
    "&nbsp;\n",
    "- **element**  \n",
    "  \n",
    "    | Name     | Description |\n",
    "    |----------|-------------|\n",
    "    | $exists | Matches documents that have the specified field.|\n",
    "    | $type | Selects documents if a field is of the specified type.|\n",
    "&nbsp;\n",
    "- **evaluation**  \n",
    "  \n",
    "    | Name     | Description |\n",
    "    |----------|-------------|\n",
    "    | $expr | Allows use of aggregation expressions within the query language. |\n",
    "    | $jsonSchema | Validate documents against the given JSON Schema. |\n",
    "    | $mod | Performs a modulo operation on the value of a field and selects documents with a specified result. |\n",
    "    | $regex | Selects documents where values match a specified regular expression. |\n",
    "    | $text | Performs text search. |\n",
    "    | $where | Matches documents that satisfy a JavaScript expression. |\n",
    "&nbsp;\n",
    "- **Geospatial**  \n",
    "\n",
    "    | Name     | Description |\n",
    "    |----------|-------------|\n",
    "    | $geoIntersects | Selects geometries that intersect with a GeoJSON geometry. The 2dsphere index supports $geoIntersects. |\n",
    "    | $geoWithin | Selects geometries within a bounding GeoJSON geometry. The 2dsphere and 2d indexes support $geoWithin. |\n",
    "    | $near | Returns geospatial objects in proximity to a point. Requires a geospatial index. The 2dsphere and 2d indexes support $near. |\n",
    "    | $nearSphere | Returns geospatial objects in proximity to a point on a sphere. Requires a geospatial index. The 2dsphere and 2d indexes support $nearSphere. |\n",
    "&nbsp;\n",
    "- **Array**  \n",
    "\n",
    "    | Name     | Description |\n",
    "    |----------|-------------|\n",
    "    | $all | Matches arrays that contain all elements specified in the query. |\n",
    "    | $elemMatch | Selects documents if element in the array field matches all the specified $elemMatch conditions. |\n",
    "    | $size | Selects documents if the array field is a specified size. |\n",
    "&nbsp;\n",
    "- **Bitwise**  \n",
    "\n",
    "    | Name     | Description |\n",
    "    |----------|-------------|\n",
    "    | $bitsAllClear | Matches numeric or binary values in which a set of bit positions all have a value of 0. |\n",
    "    | $bitsAllSet | Matches numeric or binary values in which a set of bit positions all have a value of 1. |\n",
    "    | $bitsAnyClear | Matches numeric or binary values in which any bit from a set of bit positions has a value of 0. |\n",
    "    | $bitsAnySet | Matches numeric or binary values in which any bit from a set of bit positions has a value of 1. |\n",
    "&nbsp;\n",
    "- **Projection Operators**  \n",
    "\n",
    "    | Name     | Description |\n",
    "    |----------|-------------|\n",
    "    | $ | Projects the first element in an array that matches the query condition. |\n",
    "    | $elemMatch | Projects the first element in an array that matches the specified $elemMatch condition. |\n",
    "    | $meta | Projects the document's score assigned during $text operation. |\n",
    "    | $slice | Limits the number of elements projected from an array. Supports skip and limit slices. |\n",
    "&nbsp;\n",
    "- **Miscellaneous Operators**  \n",
    "\n",
    "    | Name     | Description |\n",
    "    |----------|-------------|\n",
    "    | $comment | Adds a comment to a query predicate. |\n",
    "    | $rand | Generates a random float between 0 and 1. |\n",
    "  \n",
    "ref : https://www.mongodb.com/docs/v6.0/reference/operator/query/"
   ]
  },
  {
   "cell_type": "code",
   "execution_count": 37,
   "metadata": {},
   "outputs": [
    {
     "name": "stdout",
     "output_type": "stream",
     "text": [
      "{'_id': 2, 'item': 'journal', 'qty': 25, 'size': {'h': 14, 'w': 21, 'uom': 'cm'}, 'status': 'A'}\n",
      "{'_id': ObjectId('64415b414df9367e46657183'), 'item': 'notebook', 'qty': 50, 'size': {'h': 8.5, 'w': 11, 'uom': 'in'}, 'status': 'A'}\n",
      "{'_id': ObjectId('64415b414df9367e46657186'), 'item': 'postcard', 'qty': 45, 'size': {'h': 10, 'w': 15.25, 'uom': 'cm'}, 'status': 'A'}\n"
     ]
    }
   ],
   "source": [
    "cursor = coll.find({\"$or\": [{\"status\": \"A\"}, {\"qty\": {\"$lt\": 30}}]})\n",
    "for i in cursor:\n",
    "    print(i)"
   ]
  },
  {
   "attachments": {},
   "cell_type": "markdown",
   "metadata": {},
   "source": [
    "> #### for the cases where the inserting order matters, we can insert it as bson.\n",
    "```python\n",
    "from bson.son import SON\n",
    "coll.insert_one(\n",
    "    {\n",
    "        \"item\": \"journal\",\n",
    "        \"qty\": 25,\n",
    "        \"size\": SON([(\"h\", 14), (\"w\", 21), (\"uom\", \"cm\")]),\n",
    "        \"status\": \"A\",\n",
    "    })\n",
    "```"
   ]
  },
  {
   "attachments": {},
   "cell_type": "markdown",
   "metadata": {},
   "source": [
    "> #### Query on Nested documents - (*dot notation*)\n",
    "- **Field.nestedField** : to access a nested Field\n",
    "- **Field.index** (*0,1,2,...*) : to access by index on an array"
   ]
  },
  {
   "cell_type": "code",
   "execution_count": 21,
   "metadata": {},
   "outputs": [
    {
     "name": "stdout",
     "output_type": "stream",
     "text": [
      "{'_id': ObjectId('64415b414df9367e46657183'), 'item': 'notebook', 'qty': 50, 'size': {'h': [14, 20], 'w': 11, 'uom': 'in'}, 'status': 'A'}\n",
      "\n",
      "\n",
      "{'_id': ObjectId('64415b414df9367e46657183'), 'item': 'notebook', 'qty': 50, 'size': {'h': [14, 20], 'w': 11, 'uom': 'in'}, 'status': 'A'}\n"
     ]
    }
   ],
   "source": [
    "# Query on Nested documents\n",
    "\n",
    "# queriying using the nested field h\n",
    "print(coll.find_one_and_update({\"size.h\": {\"$lt\": 15}}, {\"$set\":{\"size.h\": [14,20]}}))\n",
    "\n",
    "print('\\n')\n",
    "\n",
    "# querying using the 0th index value of h (updated on previous query)\n",
    "print(coll.find_one({\"size.h.0\": 14}))"
   ]
  },
  {
   "attachments": {},
   "cell_type": "markdown",
   "metadata": {},
   "source": [
    "#### **Notes:**\n",
    "1.  Query `{<field> : <value>}` matches fields where the value array contains **atleast** one `<value>`\n",
    "    > `db.inventory.find({\"dim_cm\": {\"$gt\": 25}})` matches fields `'dim_cm'` with atleast one value greater than 25.\n",
    "\n",
    "    <br>\n",
    "1.  passing the array as the value matches the exact array, in the exact order.\n",
    "    > `db.inventory.find({\"tags\": [\"red\", \"blank\"]})` matches the field with `[\"red\", \"blank\"]` as value in the same order.\n",
    "    \n",
    "    <br>\n",
    "1. when the Query has multiple filter conditions, it checks if **atleast** one element satisfy each condition or one element can satisfy all conditions.\n",
    "    > `db.inventory.find({\"dim_cm\": {\"$gt\": 15, \"$lt\": 20}})` : one element can match the `$gt` condition and other can match the `$lt` condition.\n",
    "    \n",
    "    <br>\n",
    "1. `$eleMatch` is used to match fields where atleast one element satisfies all the conditions.\n",
    "    \n",
    "    \n",
    "    <br>\n",
    "1. passing multiple fields implicitly does AND operation\n",
    "    > `db.inventory.find({\"item\":\"journal\", \"status\":\"A\"})` selects the documents with fields 'item' and 'status' with values 'journal' and 'A' respectively.\n",
    "\n",
    "    <br>\n",
    "1. By default, queries in MongoDB return all fields in matching documents. To limit the amount of data that MongoDB sends to applications, you can include a **projection** document to specify or restrict fields to return.\n",
    "    - **inclusion**:\n",
    "        - > `db.inventory.find({\"status\": \"A\"}, {\"item\": 1, \"status\": 1})` returns only `_id, item and status` fields.\n",
    "        - > `_id` field can be removed by setting `_id`= 0\n",
    "    - **exclusion**:\n",
    "        - > projection can be set to exclude by setting fields to 0.\n",
    "        - > `db.inventory.find({\"status\": \"A\"}, {\"status\": 0, \"instock\": 0})` returns all fields except `status` and `instock`.\n",
    "        - > with the exception of `_id` field, inclusion and exclusion statements cannot be combined.\n",
    "    - **dot notation** is used to include or exclude embedded fields\n",
    "\n",
    "    <br>\n",
    "1. The `{ item : None }` query matches documents that either contain the `item` field whose value is `null` or that do not contain the item field.\n",
    "\n",
    "    <br>\n",
    "1. The `{ item : { $exists: True } }` query matches documents that contain the field `item`."
   ]
  },
  {
   "cell_type": "code",
   "execution_count": 8,
   "metadata": {},
   "outputs": [
    {
     "data": {
      "text/plain": [
       "{'_id': ObjectId('64415b414df9367e46657183'),\n",
       " 'item': 'notebook',\n",
       " 'qty': 50,\n",
       " 'size': {'h': [14, 20], 'w': 11, 'uom': 'in'},\n",
       " 'status': 'A'}"
      ]
     },
     "execution_count": 8,
     "metadata": {},
     "output_type": "execute_result"
    }
   ],
   "source": [
    "# the cursor can be iterated over like a list\n",
    "coll.find({})[1]"
   ]
  },
  {
   "attachments": {},
   "cell_type": "markdown",
   "metadata": {},
   "source": [
    "### **Update Operations**\n",
    "update operators are used update documents."
   ]
  },
  {
   "attachments": {},
   "cell_type": "markdown",
   "metadata": {},
   "source": [
    "#### **Update Operators**\n",
    "- **Fields**\n",
    "\n",
    "    | Name | Description |\n",
    "    | ---- | ----------- |\n",
    "    | $currentDate | Sets the value of a field to current date, either as a Date or a Timestamp. |\n",
    "    | $inc | Increments the value of the field by the specified amount. |\n",
    "    | $min | Only updates the field if the specified value is less than the existing field value. |\n",
    "    | $max | Only updates the field if the specified value is greater than the existing field value. |\n",
    "    | $mul | Multiplies the value of the field by the specified amount. |\n",
    "    | $rename | Renames a field. |\n",
    "    | $set | Sets the value of a field in a document. |\n",
    "    | $setOnInsert | Sets the value of a field if an update results in an insert of a document. Has no effect on update operations that modify existing documents. |\n",
    "    | $unset | Removes the specified field from a document. |\n",
    "&nbsp;\n",
    "- **Array**\n",
    "\n",
    "    - **Operators**\n",
    "    \n",
    "        | Name | Description |\n",
    "        | ---- | ----------- |\n",
    "        | $ | Acts as a placeholder to update the first element that matches the query condition. |\n",
    "        | $[ ] | Acts as a placeholder to update all elements in an array for the documents that match the query condition. |\n",
    "        | $[\\<identifier\\>] | Acts as a placeholder to update all elements that match the arrayFilters condition for the documents that match the query condition. |\n",
    "        | $addToSet | Adds elements to an array only if they do not already exist in the set. |\n",
    "        | $pop | Removes the first or last item of an array. |\n",
    "        | $pull | Removes all array elements that match a specified query. |\n",
    "        | $push | Adds an item to an array. |\n",
    "        | $pullAll | Removes all matching values from an array. |\n",
    "    &nbsp;\n",
    "    - **Modifiers**\n",
    "\n",
    "        | Name | Description |\n",
    "        | ---- | ----------- |\n",
    "        | $each | Modifies the $push and $addToSet operators to append multiple items for array updates. |\n",
    "        | $position | Modifies the $push operator to specify the position in the array to add elements. |\n",
    "        | $slice | Modifies the $push operator to limit the size of updated arrays. |\n",
    "        | $sort | Modifies the $push operator to reorder documents stored in an array. |\n",
    "&nbsp;\n",
    "- **Bitwise**\n",
    "\n",
    "    | Name | Description |\n",
    "    | ---- | ----------- |\n",
    "    | $bit | Performs bitwise AND, OR, and XOR updates of integer values.\n",
    "  \n",
    "ref : https://www.mongodb.com/docs/v6.0/reference/operator/update/"
   ]
  },
  {
   "attachments": {},
   "cell_type": "markdown",
   "metadata": {},
   "source": [
    "#### **Update Methods**\n",
    "| Name | Description |\n",
    "| ---- | ----------- |\n",
    "| `update_one()` | Updates at most a single document that match a specified filter. |\n",
    "| `update_many()` | Update all documents that match a specified filter. |\n",
    "| `replace_one()` | Replaces at most a single document that match a specified filter. |\n",
    "| `find_one_and_update()` | similar to update_one() but uses findAndModify() internal function and also has a *sort* option. |\n",
    "| `find_one_and_replace()` | similar to replace_one() but uses findAndModify() internal function and also has a *sort* option. |"
   ]
  },
  {
   "cell_type": "code",
   "execution_count": 30,
   "metadata": {},
   "outputs": [
    {
     "data": {
      "text/plain": [
       "{'_id': ObjectId('64415b414df9367e46657184'),\n",
       " 'item': 'paper',\n",
       " 'qty': 103,\n",
       " 'size': {'h': 8.5, 'w': 11, 'uom': 'cm'},\n",
       " 'status': 'P',\n",
       " 'lastModified': datetime.datetime(2023, 4, 23, 16, 48, 36, 75000)}"
      ]
     },
     "execution_count": 30,
     "metadata": {},
     "output_type": "execute_result"
    }
   ],
   "source": [
    "coll.update_one(\n",
    "    {\"item\": \"paper\"},\n",
    "    {\"$set\": {\"size.uom\": \"cm\", \"status\": \"P\"},'$inc':{'qty':1}, \"$currentDate\": {\"lastModified\": True}},\n",
    ")\n",
    "\n",
    "coll.find_one({'item':\"paper\"})"
   ]
  },
  {
   "cell_type": "code",
   "execution_count": 32,
   "metadata": {},
   "outputs": [
    {
     "data": {
      "text/plain": [
       "{'_id': ObjectId('644282d73e06080ef88622b5'),\n",
       " 'item': 'journal',\n",
       " 'inStock': 'None'}"
      ]
     },
     "execution_count": 32,
     "metadata": {},
     "output_type": "execute_result"
    }
   ],
   "source": [
    "coll.replace_one(\n",
    "    {\"item\":\"journal\"},\n",
    "    {\"item\":\"journal\",\n",
    "     \"inStock\":\"None\"}\n",
    ")\n",
    "\n",
    "coll.find_one({\"item\":'journal'})"
   ]
  },
  {
   "cell_type": "code",
   "execution_count": 6,
   "metadata": {},
   "outputs": [
    {
     "data": {
      "text/plain": [
       "{'_id': 1,\n",
       " 'item': 'canvas',\n",
       " 'qty': 100,\n",
       " 'tags': ['cotton'],\n",
       " 'size': {'h': 28, 'w': 35.5, 'uom': 'cm'}}"
      ]
     },
     "execution_count": 6,
     "metadata": {},
     "output_type": "execute_result"
    }
   ],
   "source": [
    "coll.update_many({},{\"$unset\":{\"status\":True}})\n",
    "\n",
    "coll.find_one()"
   ]
  },
  {
   "attachments": {},
   "cell_type": "markdown",
   "metadata": {},
   "source": [
    "#### **Notes**:\n",
    "1. Once set, the value of the `_id` field cannot be updated or replaced.\n",
    "\n",
    "1. setting `upsert = True` in update methods inserts a document if no documents match the filter.\n",
    "\n",
    "1. The `id`'s of upserted documents can be viewed using `.upserted_id` property"
   ]
  },
  {
   "attachments": {},
   "cell_type": "markdown",
   "metadata": {},
   "source": [
    "### **Delete Operations**\n",
    "- `delete_one()`\n",
    "- `delete_many()`\n",
    "- `find_one_and_delete()`"
   ]
  },
  {
   "cell_type": "code",
   "execution_count": 11,
   "metadata": {},
   "outputs": [
    {
     "data": {
      "text/plain": [
       "<pymongo.results.DeleteResult at 0x2087bf17df0>"
      ]
     },
     "execution_count": 11,
     "metadata": {},
     "output_type": "execute_result"
    }
   ],
   "source": [
    "coll.delete_one(\n",
    "    {'item':'journal'}\n",
    ")"
   ]
  },
  {
   "attachments": {},
   "cell_type": "markdown",
   "metadata": {},
   "source": [
    "#### **Notes**:\n",
    "1. Delete operations do not drop indexes, even if all documents are deleted from the collection.\n",
    "\n",
    "1. `find_one_and_delete()` provides a sort option. The option allows for the deletion of the first document sorted by the specified order."
   ]
  },
  {
   "attachments": {},
   "cell_type": "markdown",
   "metadata": {},
   "source": [
    "### bulk_write()\n",
    "bulk_write support following operations:\n",
    "- `InsertOne`\n",
    "- `UpdateOne`\n",
    "- `UpdateMany`\n",
    "- `ReplaceOne`\n",
    "- `ReleteOne`\n",
    "- `DeleteMany`"
   ]
  },
  {
   "cell_type": "code",
   "execution_count": 40,
   "metadata": {},
   "outputs": [
    {
     "name": "stdout",
     "output_type": "stream",
     "text": [
      "{'_id': 1}\n"
     ]
    }
   ],
   "source": [
    "from pymongo import DeleteMany,InsertOne\n",
    "\n",
    "coll.bulk_write(\n",
    "    [\n",
    "    DeleteMany({}),\n",
    "    InsertOne({'_id':1})\n",
    "    ]\n",
    ")\n",
    "\n",
    "for i in coll.find({}):\n",
    "    print(i)"
   ]
  },
  {
   "attachments": {},
   "cell_type": "markdown",
   "metadata": {},
   "source": [
    "refernces and examples : https://www.mongodb.com/docs/v6.0/tutorial"
   ]
  }
 ],
 "metadata": {
  "kernelspec": {
   "display_name": "py11env",
   "language": "python",
   "name": "python3"
  },
  "language_info": {
   "codemirror_mode": {
    "name": "ipython",
    "version": 3
   },
   "file_extension": ".py",
   "mimetype": "text/x-python",
   "name": "python",
   "nbconvert_exporter": "python",
   "pygments_lexer": "ipython3",
   "version": "3.11.0"
  },
  "orig_nbformat": 4
 },
 "nbformat": 4,
 "nbformat_minor": 2
}
