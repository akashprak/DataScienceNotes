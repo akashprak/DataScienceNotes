{
 "cells": [
  {
   "attachments": {},
   "cell_type": "markdown",
   "metadata": {},
   "source": [
    "## List\n",
    "- lists are one of the fundamental datatypes in python.  \n",
    "- lists are mutable\n",
    "- the elements of lists can be of any datatype, including lists itself.\n",
    "- the elements inside the list can be accesssed by their index, starting from 0"
   ]
  },
  {
   "attachments": {},
   "cell_type": "markdown",
   "metadata": {},
   "source": [
    "#### **len()**\n",
    ">Note : This method is not exclusive to lists, it can be used on any container (like string or tuple)"
   ]
  },
  {
   "cell_type": "code",
   "execution_count": 1,
   "metadata": {},
   "outputs": [
    {
     "name": "stdout",
     "output_type": "stream",
     "text": [
      "3\n",
      "5\n"
     ]
    }
   ],
   "source": [
    "Arr = [\"A\", \"B\", \"C\"]\n",
    "print(len(Arr))\n",
    "print(len('apple'))"
   ]
  },
  {
   "attachments": {},
   "cell_type": "markdown",
   "metadata": {},
   "source": [
    "#### **max()** : returns the maximum value\n",
    "#### **min()** : returns the minimum value\n",
    "#### **sum()** : returns the sum + start value (default=0)\n",
    ">max and min can only be used on containers where it is defined\n",
    ">sum is defined for numeric values"
   ]
  },
  {
   "cell_type": "code",
   "execution_count": 2,
   "metadata": {},
   "outputs": [
    {
     "name": "stdout",
     "output_type": "stream",
     "text": [
      "x\n",
      "4\n",
      "1010.5\n"
     ]
    }
   ],
   "source": [
    "Arr1 = ['a', 'b', 'c', 'x']\n",
    "Arr2 = [1, 2, 3.5, 4]\n",
    "\n",
    "print(max(Arr1))\n",
    "print(max(Arr2))\n",
    "print(sum(Arr2,1000))"
   ]
  },
  {
   "attachments": {},
   "cell_type": "markdown",
   "metadata": {},
   "source": [
    "#### **del** : keyword in python to perform deletion "
   ]
  },
  {
   "cell_type": "code",
   "execution_count": 3,
   "metadata": {},
   "outputs": [],
   "source": [
    "colour = 'orange'\n",
    "del Arr1,Arr2,colour"
   ]
  },
  {
   "attachments": {},
   "cell_type": "markdown",
   "metadata": {},
   "source": [
    "#### **.append()** : adds an element to the end of the list."
   ]
  },
  {
   "cell_type": "code",
   "execution_count": 4,
   "metadata": {},
   "outputs": [
    {
     "data": {
      "text/plain": [
       "['A', 'B', 'C', 'D']"
      ]
     },
     "execution_count": 4,
     "metadata": {},
     "output_type": "execute_result"
    }
   ],
   "source": [
    "Arr.append('D')\n",
    "Arr"
   ]
  },
  {
   "attachments": {},
   "cell_type": "markdown",
   "metadata": {},
   "source": [
    "#### **.pop()** : removes the element at specified index (last element by default)"
   ]
  },
  {
   "cell_type": "code",
   "execution_count": 5,
   "metadata": {},
   "outputs": [
    {
     "name": "stdout",
     "output_type": "stream",
     "text": [
      "D\n",
      "['A', 'B', 'C']\n"
     ]
    }
   ],
   "source": [
    "print(Arr.pop())\n",
    "print(Arr)"
   ]
  },
  {
   "attachments": {},
   "cell_type": "markdown",
   "metadata": {},
   "source": [
    "#### **.reverse()** : reverses the list (this method is inplace)"
   ]
  },
  {
   "cell_type": "code",
   "execution_count": 6,
   "metadata": {},
   "outputs": [
    {
     "data": {
      "text/plain": [
       "['C', 'B', 'A']"
      ]
     },
     "execution_count": 6,
     "metadata": {},
     "output_type": "execute_result"
    }
   ],
   "source": [
    "Arr.reverse()\n",
    "Arr"
   ]
  },
  {
   "attachments": {},
   "cell_type": "markdown",
   "metadata": {},
   "source": [
    "#### **.count()**"
   ]
  },
  {
   "cell_type": "code",
   "execution_count": 7,
   "metadata": {},
   "outputs": [
    {
     "data": {
      "text/plain": [
       "1"
      ]
     },
     "execution_count": 7,
     "metadata": {},
     "output_type": "execute_result"
    }
   ],
   "source": [
    "Arr.count(\"A\")"
   ]
  },
  {
   "attachments": {},
   "cell_type": "markdown",
   "metadata": {},
   "source": [
    "#### **.extend()** : adds the elements in the iterable given to the end of the list"
   ]
  },
  {
   "cell_type": "code",
   "execution_count": 8,
   "metadata": {},
   "outputs": [
    {
     "data": {
      "text/plain": [
       "['C', 'B', 'A', 'X', 'Y', 'Z']"
      ]
     },
     "execution_count": 8,
     "metadata": {},
     "output_type": "execute_result"
    }
   ],
   "source": [
    "Arr.extend( [\"X\", \"Y\", \"Z\"] )\n",
    "Arr"
   ]
  },
  {
   "attachments": {},
   "cell_type": "markdown",
   "metadata": {},
   "source": [
    "#### **.index()**"
   ]
  },
  {
   "cell_type": "code",
   "execution_count": 9,
   "metadata": {},
   "outputs": [
    {
     "data": {
      "text/plain": [
       "3"
      ]
     },
     "execution_count": 9,
     "metadata": {},
     "output_type": "execute_result"
    }
   ],
   "source": [
    "Arr.index('X')"
   ]
  },
  {
   "attachments": {},
   "cell_type": "markdown",
   "metadata": {},
   "source": [
    "#### **.insert()**"
   ]
  },
  {
   "cell_type": "code",
   "execution_count": 10,
   "metadata": {},
   "outputs": [
    {
     "name": "stdout",
     "output_type": "stream",
     "text": [
      "['C', 'B', 'A', 'X', 'Y', 'Z']\n",
      "['D', 'C', 'B', 'A', 'X', 'Y', 'Z']\n"
     ]
    }
   ],
   "source": [
    "print(Arr)\n",
    "Arr.insert(0,'D')\n",
    "print(Arr)"
   ]
  },
  {
   "attachments": {},
   "cell_type": "markdown",
   "metadata": {},
   "source": [
    "#### **.remove()** : remove first occurence of the value"
   ]
  },
  {
   "cell_type": "code",
   "execution_count": 11,
   "metadata": {},
   "outputs": [
    {
     "name": "stdout",
     "output_type": "stream",
     "text": [
      "['C', 'B', 'A', 'X', 'Y', 'Z']\n"
     ]
    }
   ],
   "source": [
    "Arr.remove('D')\n",
    "print(Arr)"
   ]
  },
  {
   "attachments": {},
   "cell_type": "markdown",
   "metadata": {},
   "source": [
    "#### **slicing**\n",
    "since the elements of the list are indexed, we can perform indexing on lists.  \n",
    "There are three arguments for a slicing operation:\n",
    "- the start index\n",
    "- the end index\n",
    "- jump"
   ]
  },
  {
   "cell_type": "code",
   "execution_count": 12,
   "metadata": {},
   "outputs": [
    {
     "name": "stdout",
     "output_type": "stream",
     "text": [
      "[5, 6, 7, 8, 9, 10]\n",
      "[1, 2, 3, 4]\n",
      "[3, 5, 7]\n",
      "[4, 3, 2, 1]\n"
     ]
    }
   ],
   "source": [
    "Arr = [1,2,3,4,5,6,7,8,9,10]\n",
    "\n",
    "# starting from the 5th element (index starts from 0)\n",
    "print(Arr[4:])\n",
    "\n",
    "# upto 4th element\n",
    "print(Arr[:4])\n",
    "\n",
    "# from 3rd to 8th with jump 2\n",
    "print(Arr[2:8:2])\n",
    "\n",
    "# jump -1 reverses list\n",
    "print(Arr[3::-1])"
   ]
  },
  {
   "attachments": {},
   "cell_type": "markdown",
   "metadata": {},
   "source": [
    "### **list comprehension**\n",
    "list comprehension is a one liner to create lists"
   ]
  },
  {
   "cell_type": "code",
   "execution_count": 3,
   "metadata": {},
   "outputs": [
    {
     "ename": "SyntaxError",
     "evalue": "invalid syntax (3124137559.py, line 6)",
     "output_type": "error",
     "traceback": [
      "\u001b[1;36m  Cell \u001b[1;32mIn[3], line 6\u001b[1;36m\u001b[0m\n\u001b[1;33m    l4 = [i if i%2==0 else i**2 if i%5==0 else break for i in range(10)]\u001b[0m\n\u001b[1;37m                                               ^\u001b[0m\n\u001b[1;31mSyntaxError\u001b[0m\u001b[1;31m:\u001b[0m invalid syntax\n"
     ]
    }
   ],
   "source": [
    "l1 = [i for i in range(10)]\n",
    "l2 = [i for i in '5 apples and 3 oranges' if i.isalpha()]\n",
    "\n",
    "l3 = [i for i in range(100) if i%13==0 or i%17==0]\n",
    "\n",
    "l4 = [i if i%2==0 else i**2 if i%5==0 else None for i in range(10)]\n",
    "\n",
    "print(l1)\n",
    "print(l2)\n",
    "print(l3)\n",
    "print(l4)"
   ]
  },
  {
   "attachments": {},
   "cell_type": "markdown",
   "metadata": {},
   "source": [
    "## Tuple\n",
    "- tuples are immutable\n",
    "- tuples are hashable\n",
    "- the elements inside the tuple are indexed\n",
    "- slicing can be performed on a tuple\n",
    "- there are two methods available:\n",
    "    1. **.index()**\n",
    "    1. **.count()**"
   ]
  },
  {
   "cell_type": "code",
   "execution_count": 1,
   "metadata": {},
   "outputs": [
    {
     "data": {
      "text/plain": [
       "6"
      ]
     },
     "execution_count": 1,
     "metadata": {},
     "output_type": "execute_result"
    }
   ],
   "source": [
    "a=(1,2,3,4,5,6,7,7)\n",
    "a[5]"
   ]
  }
 ],
 "metadata": {
  "kernelspec": {
   "display_name": "py11env",
   "language": "python",
   "name": "python3"
  },
  "language_info": {
   "codemirror_mode": {
    "name": "ipython",
    "version": 3
   },
   "file_extension": ".py",
   "mimetype": "text/x-python",
   "name": "python",
   "nbconvert_exporter": "python",
   "pygments_lexer": "ipython3",
   "version": "3.11.0"
  },
  "orig_nbformat": 4
 },
 "nbformat": 4,
 "nbformat_minor": 2
}
