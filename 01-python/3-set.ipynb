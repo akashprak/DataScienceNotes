{
 "cells": [
  {
   "attachments": {},
   "cell_type": "markdown",
   "metadata": {},
   "source": [
    "## set\n",
    "- sets are like lists, but the elements are unordered and cannot be accessed by indexing\n",
    "- set implicitly stores its elements in *ascending*\n",
    "- set stores only unique elements"
   ]
  },
  {
   "attachments": {},
   "cell_type": "markdown",
   "metadata": {},
   "source": [
    "#### **.add()**"
   ]
  },
  {
   "cell_type": "code",
   "execution_count": 1,
   "metadata": {},
   "outputs": [
    {
     "data": {
      "text/plain": [
       "{1, 2, 3, 4, 5}"
      ]
     },
     "execution_count": 1,
     "metadata": {},
     "output_type": "execute_result"
    }
   ],
   "source": [
    "S = {4,3,2,1}\n",
    "S.add(5)\n",
    "S"
   ]
  },
  {
   "attachments": {},
   "cell_type": "markdown",
   "metadata": {},
   "source": [
    "#### **.pop()** : removes the first element and returns it."
   ]
  },
  {
   "cell_type": "code",
   "execution_count": 2,
   "metadata": {},
   "outputs": [
    {
     "data": {
      "text/plain": [
       "1"
      ]
     },
     "execution_count": 2,
     "metadata": {},
     "output_type": "execute_result"
    }
   ],
   "source": [
    "S.pop()"
   ]
  },
  {
   "attachments": {},
   "cell_type": "markdown",
   "metadata": {},
   "source": [
    "#### **.remove()** : removes the element from set if present\n",
    "#### **.discard()** : removes the given element but raises no error if not present\n",
    "#### **.clear()** : clear the set"
   ]
  },
  {
   "cell_type": "code",
   "execution_count": 3,
   "metadata": {},
   "outputs": [
    {
     "name": "stdout",
     "output_type": "stream",
     "text": [
      "{2, 3, 4}\n",
      "set()\n"
     ]
    }
   ],
   "source": [
    "S.remove(5)\n",
    "S.discard(123.45)\n",
    "print(S)    # 5 removed and no error on discarding 123.45\n",
    "\n",
    "S.clear()\n",
    "print(S)    # S is cleared"
   ]
  },
  {
   "attachments": {},
   "cell_type": "markdown",
   "metadata": {},
   "source": [
    "#### **.difference()** : difference between sets (x-y)\n",
    "#### **.union()** : union of sets (x|y)\n",
    "#### **.intersection()** : intersection of sets (x&y)\n",
    "#### **.symmetric_difference()** : symmetric difference, that is, elements in either but not both (x^y)"
   ]
  },
  {
   "cell_type": "code",
   "execution_count": 4,
   "metadata": {},
   "outputs": [
    {
     "name": "stdout",
     "output_type": "stream",
     "text": [
      "difference :\n",
      "{2, 3, 4, 5}\n",
      "{2, 3, 4, 5}\n",
      "\n",
      "union :\n",
      "{1, 2, 3, 4, 5, 14, 15}\n",
      "{1, 2, 3, 4, 5, 100, 10, 14, 15}\n",
      "\n",
      "intersection :\n",
      "{1}\n",
      "\n",
      "symmetric difference :\n",
      "{1, 2, 3, 14, 15}\n"
     ]
    }
   ],
   "source": [
    "S1 = {1,2,3,4,5}\n",
    "S2 = {1, 10, 100}\n",
    "S3 = {4,5,14,15}\n",
    "\n",
    "# two ways of getting difference\n",
    "print('difference :')\n",
    "print(S1.difference(S2))\n",
    "print(S1-S2)\n",
    "\n",
    "# union\n",
    "print('\\nunion :')\n",
    "print(S1.union(S3))\n",
    "print(S1|S2|S3)\n",
    "\n",
    "print('\\nintersection :')\n",
    "print(S1&S2)\n",
    "\n",
    "print('\\nsymmetric difference :')\n",
    "print(S1^S3)"
   ]
  },
  {
   "attachments": {},
   "cell_type": "markdown",
   "metadata": {},
   "source": [
    "#### **.isdisjoint()** : checks if they have a null intersection\n",
    "#### **.issubset()** :\n",
    "- subset - `set <= other set`\n",
    "- proper subset - `set < other set`\n",
    "#### **.issuperset()** :\n",
    "- superset - `set >= other set`\n",
    "- true superset - `set > other set`"
   ]
  },
  {
   "cell_type": "code",
   "execution_count": 5,
   "metadata": {},
   "outputs": [
    {
     "name": "stdout",
     "output_type": "stream",
     "text": [
      "False \n",
      "\n",
      "True\n",
      "False \n",
      "\n",
      "True\n"
     ]
    }
   ],
   "source": [
    "print(S1.isdisjoint(S2),'\\n')\n",
    "\n",
    "print(S1.issubset(S1))\n",
    "print(S1<S1,'\\n')\n",
    "\n",
    "print(S1>={1,2})"
   ]
  },
  {
   "attachments": {},
   "cell_type": "markdown",
   "metadata": {},
   "source": [
    "#### **.update()** : updates the set with the union of all sets\n",
    "#### **.intersection_update()** : updates the set with the intersection of sets\n",
    "#### **.symmetric_difference_update()**\n",
    "#### **.difference_update()**"
   ]
  },
  {
   "cell_type": "code",
   "execution_count": 6,
   "metadata": {},
   "outputs": [
    {
     "name": "stdout",
     "output_type": "stream",
     "text": [
      "{1, 2, 3, 4, 5, 6} \n",
      "\n",
      "{1, 2, 7, 8}\n"
     ]
    }
   ],
   "source": [
    "S = {1,2,3,4}\n",
    "S.update({5},{6})\n",
    "print(S,'\\n')\n",
    "\n",
    "S.symmetric_difference_update({3,4,5,6,7,8})\n",
    "print(S)"
   ]
  },
  {
   "attachments": {},
   "cell_type": "markdown",
   "metadata": {},
   "source": [
    "### **set comprehension**\n",
    "set comprehension is similar to list comprehension"
   ]
  },
  {
   "cell_type": "code",
   "execution_count": 12,
   "metadata": {},
   "outputs": [
    {
     "name": "stdout",
     "output_type": "stream",
     "text": [
      "{0, 1, 2, 3, 4, 5, 6, 7, 8, 9, 10, 11, 12, 13, 14}\n",
      "{'apple'}\n"
     ]
    }
   ],
   "source": [
    "s1 = {i//7 for i in range(100)}\n",
    "s2 = {'apple' for i in 'apple'}\n",
    "print(s1)\n",
    "print(s2)"
   ]
  }
 ],
 "metadata": {
  "kernelspec": {
   "display_name": "py11env",
   "language": "python",
   "name": "python3"
  },
  "language_info": {
   "codemirror_mode": {
    "name": "ipython",
    "version": 3
   },
   "file_extension": ".py",
   "mimetype": "text/x-python",
   "name": "python",
   "nbconvert_exporter": "python",
   "pygments_lexer": "ipython3",
   "version": "3.11.0"
  },
  "orig_nbformat": 4
 },
 "nbformat": 4,
 "nbformat_minor": 2
}
