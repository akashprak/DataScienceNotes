{
 "cells": [
  {
   "attachments": {},
   "cell_type": "markdown",
   "metadata": {},
   "source": [
    "## Object Oriented Programming System\n",
    "A programming paradigm of designing programs using classes and objects."
   ]
  },
  {
   "cell_type": "code",
   "execution_count": 1,
   "metadata": {},
   "outputs": [
    {
     "data": {
      "text/plain": [
       "'apple'"
      ]
     },
     "execution_count": 1,
     "metadata": {},
     "output_type": "execute_result"
    }
   ],
   "source": [
    "class Item:\n",
    "    pass\n",
    "\n",
    "item1 = Item()\n",
    "item1.name = 'apple'\n",
    "item1.name"
   ]
  },
  {
   "attachments": {},
   "cell_type": "markdown",
   "metadata": {},
   "source": [
    "### constructor\n",
    "the magic method `__init__` is used to initialize a class, which is also called 'constructor'.  \n",
    "- **Non parametrized constructor**\n",
    "    ```\n",
    "    class foo:\n",
    "        def __init__(self):\n",
    "            pass\n",
    "    ```\n",
    "- **parametrized constructor**\n",
    "    ```\n",
    "    class foo:\n",
    "        def __init__(self,x,y):\n",
    "            self.x=x\n",
    "            self.y=y\n",
    "    ```\n",
    "- like in functions we can pass default argument to the `__init__` method too."
   ]
  },
  {
   "attachments": {},
   "cell_type": "markdown",
   "metadata": {},
   "source": [
    "In python, it is possible to make methods and attributes private and protected:\n",
    "- One underscore before the attribute name or method name makes it protected ( _ )\n",
    "- Two underscores before the attribute name or method name makes it private ( __ )\n",
    "\n",
    "| | Parent class | child class | object |\n",
    "| - | ---------- | ----------- | ------ |\n",
    "| **private** | Yes | No | No |\n",
    "| **protected** | Yes | Yes | No |\n",
    "| **public** | Yes | Yes | Yes |\n",
    "\n",
    "<br>\n",
    "\n",
    "- In python no variable or method is truly private or protected, but it is convention to regard it as private and protected.\n",
    "\n",
    "- Python does a name transformation for private variables and methods\n",
    "    > To access private attribute or method :  \n",
    "    `objectName._className__VariableName`\n",
    "\n",
    "- protected variables helps developers to identify them so as to not accidentally modify them.\n",
    "- protected variables or methods are not imported while importing modules. "
   ]
  },
  {
   "cell_type": "code",
   "execution_count": 3,
   "metadata": {},
   "outputs": [
    {
     "data": {
      "text/plain": [
       "100"
      ]
     },
     "execution_count": 3,
     "metadata": {},
     "output_type": "execute_result"
    }
   ],
   "source": [
    "class foo:\n",
    "    __x=100\n",
    "\n",
    "A = foo()\n",
    "\n",
    "# A.__x   Error\n",
    "A._foo__x"
   ]
  },
  {
   "cell_type": "code",
   "execution_count": 2,
   "metadata": {},
   "outputs": [
    {
     "name": "stdout",
     "output_type": "stream",
     "text": [
      "this is the name for the instances\n"
     ]
    }
   ],
   "source": [
    "# the magic method __str__ can be overridden to set the name for instances\n",
    "class test:\n",
    "    def __str__(self):\n",
    "        return 'this is the name for the instances'\n",
    "    \n",
    "item = test()\n",
    "print(item)"
   ]
  },
  {
   "cell_type": "code",
   "execution_count": 5,
   "metadata": {},
   "outputs": [
    {
     "name": "stdout",
     "output_type": "stream",
     "text": [
      "a:1, b:1\n"
     ]
    }
   ],
   "source": [
    "class item:\n",
    "    def __init__(self,a,b) -> None:\n",
    "        self.a = a\n",
    "        self.b = b\n",
    "\n",
    "    def __repr__(self) -> str:\n",
    "        return f'a:{self.a}, b:{self.b}'\n",
    "    \n",
    "A = item(1,1)\n",
    "print(A)"
   ]
  },
  {
   "attachments": {},
   "cell_type": "markdown",
   "metadata": {},
   "source": [
    "- `__repr__` is used when detailed information is needed for debugging.\n",
    "- `__str__` by default gives the value in `__repr__`\n",
    "- In short, `__repr__` is for developers, `__str__` is for customers"
   ]
  },
  {
   "cell_type": "code",
   "execution_count": 8,
   "metadata": {},
   "outputs": [
    {
     "name": "stdout",
     "output_type": "stream",
     "text": [
      "apple\n"
     ]
    }
   ],
   "source": [
    "s = 'apple'\n",
    "print(eval(repr(s)))    # returns 'apple' ,repr can be evaluated\n",
    "print (eval(str(s)))    # Error "
   ]
  },
  {
   "attachments": {},
   "cell_type": "markdown",
   "metadata": {},
   "source": [
    "### class and instance attributes"
   ]
  },
  {
   "cell_type": "code",
   "execution_count": 9,
   "metadata": {},
   "outputs": [],
   "source": [
    "class item:\n",
    "    discount = 0.5  # class attribute\n",
    "\n",
    "    def __init__(self,price) -> None:\n",
    "        self.price = price  # instance attribute\n",
    "\n",
    "    def disc(self):\n",
    "        return f'The discount is {self.discount}'"
   ]
  },
  {
   "cell_type": "code",
   "execution_count": 13,
   "metadata": {},
   "outputs": [
    {
     "name": "stdout",
     "output_type": "stream",
     "text": [
      "class attributes: \n",
      " {'__module__': '__main__', 'discount': 0.5, '__init__': <function item.__init__ at 0x000002792B660D60>, 'disc': <function item.disc at 0x000002792B6622A0>, '__dict__': <attribute '__dict__' of 'item' objects>, '__weakref__': <attribute '__weakref__' of 'item' objects>, '__doc__': None}\n",
      "\n",
      "instance attributes: \n",
      " {'price': 1500}\n"
     ]
    }
   ],
   "source": [
    "item1 = item(1500)\n",
    "\n",
    "# All the attributes for the class level -> dict\n",
    "print('class attributes: \\n',item.__dict__)\n",
    "\n",
    "# All the attributes at instance level\n",
    "print('\\ninstance attributes: \\n',item1.__dict__)"
   ]
  },
  {
   "cell_type": "code",
   "execution_count": 16,
   "metadata": {},
   "outputs": [
    {
     "name": "stdout",
     "output_type": "stream",
     "text": [
      "orange   -   apple\n"
     ]
    }
   ],
   "source": [
    "class foo:\n",
    "    name = 'apple'\n",
    "\n",
    "A = foo()\n",
    "A.name = 'orange'\n",
    "\n",
    "# class attribute is not overwritten by instance attribute, but a new instance attribute is created\n",
    "print(A.name,'  -  ',foo.name)"
   ]
  },
  {
   "attachments": {},
   "cell_type": "markdown",
   "metadata": {},
   "source": [
    "### **Classmethod**\n",
    "- classmethod passes the classname as the first argument\n",
    "- it passes classname as first argument even if it is called from an instance"
   ]
  },
  {
   "cell_type": "code",
   "execution_count": null,
   "metadata": {},
   "outputs": [],
   "source": [
    "import csv\n",
    "\n",
    "class foo:\n",
    "    All = list()\n",
    "\n",
    "    def __init__(self, name, price) -> None:\n",
    "        self.name = name\n",
    "        self.price = price\n",
    "\n",
    "        self.All.append(self)   # this keep a list of all the instances created of this class\n",
    "\n",
    "    # this classmethod is used to initialize the class from items in a csvfile\n",
    "    @classmethod\n",
    "    def method(cls, csvfile):\n",
    "        with open(csvfile) as f:\n",
    "            read = csv.DictReader(f)\n",
    "            items = list(read)\n",
    "        \n",
    "        for i in items:\n",
    "            cls(name = i.get('name'),\n",
    "                price = i.get('price'))\n",
    "            \n",
    "            \n",
    "foo.method('items.csv')     # initializes multiple instances from the csvfile\n",
    "print(foo.All)      # prints all the instances initialized which is stored in 'All'"
   ]
  },
  {
   "attachments": {},
   "cell_type": "markdown",
   "metadata": {},
   "source": [
    "### **staticmethods**\n",
    "- it behaves like a function outside of the class, independent of it\n",
    "- staticmethod is used when a method is same across all instances\n",
    "- it does something related to the class, but is not unique per instance"
   ]
  },
  {
   "cell_type": "code",
   "execution_count": 17,
   "metadata": {},
   "outputs": [
    {
     "name": "stdout",
     "output_type": "stream",
     "text": [
      "0\n",
      "1\n",
      "2\n",
      "3\n"
     ]
    }
   ],
   "source": [
    "class C:\n",
    "    @staticmethod\n",
    "    def number(n):\n",
    "        for i in range(n):\n",
    "            print(i)\n",
    "\n",
    "C.number(4)"
   ]
  },
  {
   "attachments": {},
   "cell_type": "markdown",
   "metadata": {},
   "source": [
    "### **Read only attribute** or **property**\n",
    "- @property is the getter decorator, it is used for getting attribute value\n",
    "- @name.setter is used for setting values"
   ]
  },
  {
   "cell_type": "code",
   "execution_count": 18,
   "metadata": {},
   "outputs": [
    {
     "name": "stdout",
     "output_type": "stream",
     "text": [
      "apple\n"
     ]
    }
   ],
   "source": [
    "class foo:\n",
    "    _name = 'apple'\n",
    "\n",
    "    @property\n",
    "    def name(self):\n",
    "        return self._name\n",
    "    \n",
    "print(foo().name)\n",
    "\n",
    "# cannot change a property value directly\n",
    "foo().name = 'orange'   # Attribute error"
   ]
  },
  {
   "cell_type": "code",
   "execution_count": 21,
   "metadata": {},
   "outputs": [
    {
     "name": "stdout",
     "output_type": "stream",
     "text": [
      "apple\n",
      "orange\n",
      "apple\n"
     ]
    }
   ],
   "source": [
    "class foo:\n",
    "    _name = 'apple'\n",
    "\n",
    "    @property\n",
    "    def name(self):\n",
    "        return self._name\n",
    "    \n",
    "    @name.setter\n",
    "    def name(self, value):\n",
    "        self._name = value\n",
    "\n",
    "    @name.deleter\n",
    "    def name(self):\n",
    "        del self._name\n",
    "\n",
    "item = foo()\n",
    "print(item.name)    # name is class attribute value 'apple'\n",
    "\n",
    "item.name = 'orange'    # name becomes instance attribute value 'orange'\n",
    "print(item.name)\n",
    "\n",
    "del item.name   # instance attribute is deleted\n",
    "print(item.name)"
   ]
  },
  {
   "attachments": {},
   "cell_type": "markdown",
   "metadata": {},
   "source": [
    "### **composition**"
   ]
  },
  {
   "cell_type": "code",
   "execution_count": 2,
   "metadata": {},
   "outputs": [],
   "source": [
    "class player:\n",
    "    pass\n",
    "\n",
    "class enemy:\n",
    "    pass\n",
    "\n",
    "class game:\n",
    "    def __init__(self, player, enemy) -> None:\n",
    "        self.player = player()\n",
    "        self.enemy = enemy()\n",
    "\n",
    "G = game(player,enemy)"
   ]
  },
  {
   "attachments": {},
   "cell_type": "markdown",
   "metadata": {},
   "source": [
    "### **delegation**"
   ]
  },
  {
   "cell_type": "code",
   "execution_count": 2,
   "metadata": {},
   "outputs": [
    {
     "name": "stdout",
     "output_type": "stream",
     "text": [
      "Task 1\n",
      "Task 2\n",
      "Task 3\n"
     ]
    }
   ],
   "source": [
    "class delegate:\n",
    "    def task2(self):\n",
    "        print('Task 2')\n",
    "\n",
    "    def task3(self):\n",
    "        print('Task 3')\n",
    "\n",
    "class delegator:\n",
    "    def __init__(self) -> None:\n",
    "        self._delegate = delegate()\n",
    "        \n",
    "    def task1(self):\n",
    "        print('Task 1')\n",
    "\n",
    "    # for simple classes with less number of methods, create separate functions like this\n",
    "    def task2(self):\n",
    "        self._delegate.task2()\n",
    "\n",
    "    # for complex classes, use this method\n",
    "    def __getattr__(self, __name: str):\n",
    "        return getattr(self._delegate, __name)\n",
    "    \n",
    "x = delegator()\n",
    "x.task1()\n",
    "x.task2()\n",
    "x.task3()"
   ]
  },
  {
   "attachments": {},
   "cell_type": "markdown",
   "metadata": {},
   "source": [
    "### There are 4 pillars to object oriented programming\n",
    "- Encapsulation\n",
    "- Abstraction\n",
    "- Inheritance\n",
    "- Polymorphism"
   ]
  },
  {
   "attachments": {},
   "cell_type": "markdown",
   "metadata": {},
   "source": [
    "### ENCAPSULATION\n",
    "- Encapsulation means grouping data and variables methods together and restricting data access outside of the class.\n",
    "- The attributes can only be accessed through its methods, through setter and getter methods.\n",
    "- With encapsulation we can impose conditions while accessing methods, like conditions for setting data. so setting wrong data is limited."
   ]
  },
  {
   "cell_type": "code",
   "execution_count": null,
   "metadata": {},
   "outputs": [],
   "source": [
    "class foo:\n",
    "    def __init__(self, name) -> None:\n",
    "        self.__name = name\n",
    "\n",
    "    @property\n",
    "    def name(self):\n",
    "        return self.__name\n",
    "    \n",
    "    @name.setter    # we add a condition in the setter method\n",
    "    def name(self,value):\n",
    "        if type(value) == str:\n",
    "            self.__name = value"
   ]
  },
  {
   "attachments": {},
   "cell_type": "markdown",
   "metadata": {},
   "source": [
    "### ABSTRACTION\n",
    "- Abstraction is the concept that only necessary needs to be shown and unnecessary information should be hidden.\n",
    "- It is achieved by using private methods and attributes."
   ]
  },
  {
   "attachments": {},
   "cell_type": "markdown",
   "metadata": {},
   "source": [
    "### INHERITANCE\n",
    "Inheritance is the ability of a class to inherit properties from another class."
   ]
  },
  {
   "cell_type": "code",
   "execution_count": 4,
   "metadata": {},
   "outputs": [
    {
     "name": "stdout",
     "output_type": "stream",
     "text": [
      "Hello parent\n",
      "Hello child\n"
     ]
    }
   ],
   "source": [
    "class parent:\n",
    "    def func1(self):\n",
    "        print('Hello parent')\n",
    "\n",
    "class child(parent):\n",
    "    def func2(self):\n",
    "        print('Hello child')\n",
    "\n",
    "k = child()\n",
    "k.func1()\n",
    "k.func2()"
   ]
  },
  {
   "attachments": {},
   "cell_type": "markdown",
   "metadata": {},
   "source": [
    "There are five types of inheritance:\n",
    "- **single inheritance**\n",
    "- **multiple inheritance**\n",
    "- **multilevel inheritance**\n",
    "- **hierarchial inheritance**\n",
    "- **hybrid inheritance**\n",
    "\n",
    "![Inheritance](img/inheritance.jpg)\n"
   ]
  },
  {
   "attachments": {},
   "cell_type": "markdown",
   "metadata": {},
   "source": [
    "### super()\n",
    "- **super()** is used to access the immediate parent class\n",
    "- It returns a proxy object which represent the parent class\n",
    "> parameters: subClass name, instance name\n",
    "```\n",
    "A = child()\n",
    "super(child, A).method()\n",
    "```\n",
    "- under multiple inheritance, super() follows the Method Resolution Order (MRO). It can be viewed by `.__mro__` or `.mro()`\n",
    "- under multiple inheritance, the order followed is like that of multilevel inheritance "
   ]
  },
  {
   "cell_type": "code",
   "execution_count": 14,
   "metadata": {},
   "outputs": [],
   "source": [
    "class parent:\n",
    "    def __init__(self, a, b) -> None:\n",
    "        self.a = a\n",
    "        self.b = b\n",
    "\n",
    "class child(parent):\n",
    "    def __init__(self, a, b, x) -> None:\n",
    "        super().__init__(a, b)      # super() is equivalent to super(current subclass, self)\n",
    "        self.x = x"
   ]
  },
  {
   "cell_type": "code",
   "execution_count": 17,
   "metadata": {},
   "outputs": [
    {
     "data": {
      "text/plain": [
       "[__main__.child, __main__.parent, object]"
      ]
     },
     "execution_count": 17,
     "metadata": {},
     "output_type": "execute_result"
    }
   ],
   "source": [
    "child.mro()"
   ]
  },
  {
   "cell_type": "code",
   "execution_count": 20,
   "metadata": {},
   "outputs": [
    {
     "name": "stdout",
     "output_type": "stream",
     "text": [
      "Inside class: Bat\n",
      "Inside class: Bird\n",
      "Inside class: Mammal\n",
      "Inside class: Animal\n"
     ]
    },
    {
     "data": {
      "text/plain": [
       "(__main__.Bat, __main__.Bird, __main__.Mammal, __main__.Animal, object)"
      ]
     },
     "execution_count": 20,
     "metadata": {},
     "output_type": "execute_result"
    }
   ],
   "source": [
    "# MRO on hybrid inheritance\n",
    "# the print statements inside all the init statements will be executed in the order of MRO\n",
    "class Animal:\n",
    "    def __init__(self) -> None:\n",
    "        print('Inside class: Animal')\n",
    "\n",
    "class Mammal(Animal):\n",
    "    def __init__(self) -> None:\n",
    "        print('Inside class: Mammal')\n",
    "        super().__init__()      # initializing the super class\n",
    "\n",
    "class Bird(Animal):\n",
    "    def __init__(self) -> None:\n",
    "        print('Inside class: Bird')\n",
    "        super().__init__()\n",
    "\n",
    "class Bat(Bird, Mammal):\n",
    "    def __init__(self) -> None:\n",
    "        print('Inside class: Bat')\n",
    "        super().__init__()\n",
    "\n",
    "D = Bat()\n",
    "Bat.__mro__       # the order of execution and MRO are the same"
   ]
  },
  {
   "attachments": {},
   "cell_type": "markdown",
   "metadata": {},
   "source": [
    "### Abstractmethod\n",
    "- abstractmethod is used to create the blueprint of the whole program\n",
    "- A class with only abstractmethods is called an abstractclass\n",
    "- abstract classes cannot be instantiated\n",
    "- Abstraction means creating an abstract or blueprint"
   ]
  },
  {
   "cell_type": "code",
   "execution_count": 1,
   "metadata": {},
   "outputs": [
    {
     "ename": "TypeError",
     "evalue": "Can't instantiate abstract class fruit with abstract method color",
     "output_type": "error",
     "traceback": [
      "\u001b[1;31m---------------------------------------------------------------------------\u001b[0m",
      "\u001b[1;31mTypeError\u001b[0m                                 Traceback (most recent call last)",
      "Cell \u001b[1;32mIn[1], line 9\u001b[0m\n\u001b[0;32m      5\u001b[0m     \u001b[39m@abstractmethod\u001b[39m\n\u001b[0;32m      6\u001b[0m     \u001b[39mdef\u001b[39;00m \u001b[39mcolor\u001b[39m(\u001b[39mself\u001b[39m):\n\u001b[0;32m      7\u001b[0m         \u001b[39mpass\u001b[39;00m\n\u001b[1;32m----> 9\u001b[0m F \u001b[39m=\u001b[39m fruit()\n",
      "\u001b[1;31mTypeError\u001b[0m: Can't instantiate abstract class fruit with abstract method color"
     ]
    }
   ],
   "source": [
    "# ABC is the Abstract Base Class which is used to create base classes\n",
    "from abc import ABC,abstractmethod\n",
    "\n",
    "class fruit(ABC):\n",
    "\n",
    "    @abstractmethod\n",
    "    def color(self):\n",
    "        pass\n",
    "\n",
    "F = fruit()"
   ]
  },
  {
   "cell_type": "code",
   "execution_count": 2,
   "metadata": {},
   "outputs": [
    {
     "name": "stdout",
     "output_type": "stream",
     "text": [
      "Yellow\n"
     ]
    }
   ],
   "source": [
    "class mango(fruit):\n",
    "\n",
    "    # overriding abstract method\n",
    "    def color(self):\n",
    "        print('Yellow')\n",
    "\n",
    "mango().color()"
   ]
  },
  {
   "attachments": {},
   "cell_type": "markdown",
   "metadata": {},
   "source": [
    "suggestion : https://youtu.be/Ej_02ICOIgs"
   ]
  }
 ],
 "metadata": {
  "kernelspec": {
   "display_name": "py11env",
   "language": "python",
   "name": "python3"
  },
  "language_info": {
   "codemirror_mode": {
    "name": "ipython",
    "version": 3
   },
   "file_extension": ".py",
   "mimetype": "text/x-python",
   "name": "python",
   "nbconvert_exporter": "python",
   "pygments_lexer": "ipython3",
   "version": "3.11.0"
  },
  "orig_nbformat": 4
 },
 "nbformat": 4,
 "nbformat_minor": 2
}
