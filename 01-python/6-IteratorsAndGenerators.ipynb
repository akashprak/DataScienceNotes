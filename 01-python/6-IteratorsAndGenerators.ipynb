{
 "cells": [
  {
   "attachments": {},
   "cell_type": "markdown",
   "metadata": {},
   "source": [
    "## Iterator\n",
    "Iterator is an object that allows us to iterate over a collection of data.  \n",
    "Technically, in Python, an iterator is an object which implements the iterator protocol, which consist of the methods `__iter__()` and `__next__()`."
   ]
  },
  {
   "attachments": {},
   "cell_type": "markdown",
   "metadata": {},
   "source": [
    "### **iter()**\n",
    "iter() is used to create an iterator over an iterable or a function (callable)\n",
    "- iter(iterable)\n",
    "- iter(callable, sentinel)\n",
    "### **next()**\n",
    "- *next(iterator, default)*\n",
    "- return the next item and default if iterator is exhausted"
   ]
  },
  {
   "cell_type": "code",
   "execution_count": 28,
   "metadata": {},
   "outputs": [
    {
     "name": "stdout",
     "output_type": "stream",
     "text": [
      "iterator i1 :\n",
      "1 \n",
      "\n",
      "iterator i2 :\n",
      "1\n",
      "2\n",
      "3\n",
      "4\n",
      "5\n",
      "6\n",
      "end of iteration..end of iteration..end of iteration..end of iteration.."
     ]
    }
   ],
   "source": [
    "# list,tuple,dictionary,etc.. are iterables\n",
    "l = [1,2,3,4,5]\n",
    "i1 = iter(l)\n",
    "print('iterator i1 :')\n",
    "print(next(i1),'\\n')\n",
    "\n",
    "\n",
    "# using callable\n",
    "with open('numbers.txt') as f:\n",
    "    i2 = iter(f.readline,'7\\n')\n",
    "    print('iterator i2 :')\n",
    "    for i in range(10):\n",
    "        print(next(i2,'end of iteration..'),end='')"
   ]
  },
  {
   "attachments": {},
   "cell_type": "markdown",
   "metadata": {},
   "source": [
    "## Generator\n",
    "- As the name says, it creates generator objects\n",
    "- these behave like an iterator but produce values based on the generator function and hence consume less memory  \n",
    "- the keyword **yield** is used to create a generator function\n",
    "- generator comprehension can also be used to create generators"
   ]
  },
  {
   "attachments": {},
   "cell_type": "markdown",
   "metadata": {},
   "source": [
    "### **yield**"
   ]
  },
  {
   "cell_type": "code",
   "execution_count": 1,
   "metadata": {},
   "outputs": [
    {
     "name": "stdout",
     "output_type": "stream",
     "text": [
      "[0, 1, 2, 3, 4]\n",
      "[(1, 2, 3), ('a', 'b', 'c'), ('X', 'Y', 'Z')]\n",
      "<class 'generator'>  :  [0, 1, 2, 3, 4, 5, 6, 7, 8, 9]\n"
     ]
    }
   ],
   "source": [
    "def func1():\n",
    "    for i in range(5):\n",
    "        yield i\n",
    "\n",
    "def func2():\n",
    "    yield 1,2,3\n",
    "    yield 'a','b','c'\n",
    "    yield 'X','Y','Z'\n",
    "\n",
    "# generator comprehension\n",
    "N = (i for i in range(10))\n",
    "\n",
    "print(list(func1()))\n",
    "print(list(func2()))\n",
    "print(type(N),' : ',list(N))\n"
   ]
  },
  {
   "attachments": {},
   "cell_type": "markdown",
   "metadata": {},
   "source": [
    "## some useful iterators and generators:"
   ]
  },
  {
   "attachments": {},
   "cell_type": "markdown",
   "metadata": {},
   "source": [
    "### **reversed()**\n",
    "reversed() returns a reversed iteator over the iterable"
   ]
  },
  {
   "cell_type": "code",
   "execution_count": 15,
   "metadata": {},
   "outputs": [
    {
     "data": {
      "text/plain": [
       "[5, 4, 3, 2, 1]"
      ]
     },
     "execution_count": 15,
     "metadata": {},
     "output_type": "execute_result"
    }
   ],
   "source": [
    "L = [1,2,3,4,5]\n",
    "i = reversed(L)\n",
    "list(i)"
   ]
  },
  {
   "attachments": {},
   "cell_type": "markdown",
   "metadata": {},
   "source": [
    "### **map()**\n",
    "- map(_function, *iterables_)\n",
    "- map returns an **iterator** over the given iterables with the funtion applied to each element of the iterable(s).\n",
    "- it stops when shortest is exhausted"
   ]
  },
  {
   "cell_type": "code",
   "execution_count": 17,
   "metadata": {},
   "outputs": [
    {
     "data": {
      "text/plain": [
       "[11, 22, 33, 44, 55]"
      ]
     },
     "execution_count": 17,
     "metadata": {},
     "output_type": "execute_result"
    }
   ],
   "source": [
    "func = lambda x,y:x+y\n",
    "l1 = [1,2,3,4,5,6,7,8,9]\n",
    "l2 = [10,20,30,40,50]\n",
    "\n",
    "itr = map(func,l1,l2)\n",
    "list(itr)"
   ]
  },
  {
   "attachments": {},
   "cell_type": "markdown",
   "metadata": {},
   "source": [
    "### **filter()**\n",
    "- filter(_fucntion, iterable_)\n",
    "- returns an iterator of elements where the function computes to True\n",
    "- if function is None, returns elements which are True \n",
    "- `0, \"\", None and False` computes to False"
   ]
  },
  {
   "cell_type": "code",
   "execution_count": 23,
   "metadata": {},
   "outputs": [
    {
     "data": {
      "text/plain": [
       "[1, 1762, 27, 'apple', 0.01, '0']"
      ]
     },
     "execution_count": 23,
     "metadata": {},
     "output_type": "execute_result"
    }
   ],
   "source": [
    "L = [1,1762,27,'apple',None,False,0.01,'','0',0]\n",
    "\n",
    "itr = filter(None, L)\n",
    "list(itr)"
   ]
  },
  {
   "cell_type": "code",
   "execution_count": 24,
   "metadata": {},
   "outputs": [
    {
     "data": {
      "text/plain": [
       "['apple', '', '0']"
      ]
     },
     "execution_count": 24,
     "metadata": {},
     "output_type": "execute_result"
    }
   ],
   "source": [
    "func = lambda x: type(x)==str\n",
    "list(filter(func,L))"
   ]
  },
  {
   "attachments": {},
   "cell_type": "markdown",
   "metadata": {},
   "source": [
    "### **reduce()**\n",
    "- reduce(_function, iterable, initial value_)\n",
    "- apply function of two arguments cumulatively to the iterable\n",
    "- returns a single value"
   ]
  },
  {
   "cell_type": "code",
   "execution_count": 39,
   "metadata": {},
   "outputs": [
    {
     "data": {
      "text/plain": [
       "110"
      ]
     },
     "execution_count": 39,
     "metadata": {},
     "output_type": "execute_result"
    }
   ],
   "source": [
    "from functools import reduce\n",
    "\n",
    "func = lambda a,b: a+b\n",
    "\n",
    "# the initial value is placed first in computation\n",
    "reduce(func, [1,2,3,4], 100)"
   ]
  },
  {
   "attachments": {},
   "cell_type": "markdown",
   "metadata": {},
   "source": [
    "### **accumulate()**\n",
    "- accumulate(_iterable, function_)\n",
    "- applies the function cumulatively to the iterable and collects the result everytime\n",
    "- funtion as None return accumulated sum"
   ]
  },
  {
   "cell_type": "code",
   "execution_count": 14,
   "metadata": {},
   "outputs": [
    {
     "data": {
      "text/plain": [
       "[0, 1, 3, 6, 10, 15]"
      ]
     },
     "execution_count": 14,
     "metadata": {},
     "output_type": "execute_result"
    }
   ],
   "source": [
    "from itertools import accumulate\n",
    "itr = accumulate([1,2,3,4,5],None,initial=0)\n",
    "list(itr)"
   ]
  },
  {
   "attachments": {},
   "cell_type": "markdown",
   "metadata": {},
   "source": [
    "### **zip()**\n",
    "- zip(_*iterables_)\n",
    "- returns an iterator\n",
    "- zips elements in a tuple until the shortest iterable is exhausted\n",
    "- __zip(*zipped item)__ can be used to unzip"
   ]
  },
  {
   "cell_type": "code",
   "execution_count": 21,
   "metadata": {},
   "outputs": [
    {
     "name": "stdout",
     "output_type": "stream",
     "text": [
      "[(1, 11), (2, 12), (3, 13), (4, 14), (5, 15)]\n"
     ]
    },
    {
     "data": {
      "text/plain": [
       "[(1, 2, 3, 4, 5), (11, 12, 13, 14, 15)]"
      ]
     },
     "execution_count": 21,
     "metadata": {},
     "output_type": "execute_result"
    }
   ],
   "source": [
    "A = [1,2,3,4,5]\n",
    "B = [11,12,13,14,15,16,17,18,19,20]\n",
    "zipped = list(zip(A,B))\n",
    "print(zipped)\n",
    "\n",
    "\n",
    "list(zip(*zipped))"
   ]
  },
  {
   "attachments": {},
   "cell_type": "markdown",
   "metadata": {},
   "source": [
    "### **sorted()**\n",
    "- sorted(_iterable, reverse=bool, key=function-)\n",
    "- sorts the iterable in ascending order by default\n",
    "- customizes the sort order if key function is provided"
   ]
  },
  {
   "cell_type": "code",
   "execution_count": 23,
   "metadata": {},
   "outputs": [
    {
     "data": {
      "text/plain": [
       "[-87, 73, 2, 1, 0.001]"
      ]
     },
     "execution_count": 23,
     "metadata": {},
     "output_type": "execute_result"
    }
   ],
   "source": [
    "L = [1,73,-87,0.001,2]\n",
    "key = lambda x:1/x\n",
    "\n",
    "sorted(L,key=key)"
   ]
  },
  {
   "attachments": {},
   "cell_type": "markdown",
   "metadata": {},
   "source": [
    "### **range()**\n",
    "- range actually returns a range object which is an iterable, but not an iterator."
   ]
  },
  {
   "cell_type": "code",
   "execution_count": 27,
   "metadata": {},
   "outputs": [
    {
     "name": "stdout",
     "output_type": "stream",
     "text": [
      "range(0, 5)\n",
      "[0, 1, 2, 3, 4]\n"
     ]
    }
   ],
   "source": [
    "n = range(5)\n",
    "print(n)\n",
    "print(list(n))"
   ]
  }
 ],
 "metadata": {
  "kernelspec": {
   "display_name": "py11env",
   "language": "python",
   "name": "python3"
  },
  "language_info": {
   "codemirror_mode": {
    "name": "ipython",
    "version": 3
   },
   "file_extension": ".py",
   "mimetype": "text/x-python",
   "name": "python",
   "nbconvert_exporter": "python",
   "pygments_lexer": "ipython3",
   "version": "3.11.0"
  },
  "orig_nbformat": 4
 },
 "nbformat": 4,
 "nbformat_minor": 2
}
