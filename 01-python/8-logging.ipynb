{
 "cells": [
  {
   "attachments": {},
   "cell_type": "markdown",
   "metadata": {},
   "source": [
    "## logging"
   ]
  },
  {
   "cell_type": "code",
   "execution_count": 1,
   "metadata": {},
   "outputs": [
    {
     "name": "stderr",
     "output_type": "stream",
     "text": [
      "ERROR:root:error\n"
     ]
    }
   ],
   "source": [
    "import logging\n",
    "logging.basicConfig()\n",
    "logging.error('error')  # logging by default prints to the console"
   ]
  },
  {
   "cell_type": "code",
   "execution_count": 1,
   "metadata": {},
   "outputs": [],
   "source": [
    "import logging  # restarted kernel\n",
    "\n",
    "# to set configuration\n",
    "logging.basicConfig(filename='test.log',level=logging.INFO)\n",
    "logging.warning('test log - warning')\n",
    "logging.info('test log - info')"
   ]
  },
  {
   "attachments": {},
   "cell_type": "markdown",
   "metadata": {},
   "source": [
    "There are different levels to logging, and the logging level set determines which logs will be logged.  \n",
    "the logs below the set level will not be logged.\n",
    "| levels | value |\n",
    "| ------ | ----- |\n",
    "| NOTSET | 0 |\n",
    "| DEBUG | 10 |\n",
    "| INFO | 20 |\n",
    "| WARNING | 30 |\n",
    "| ERROR | 40 |\n",
    "| CRITICAL | 50 |"
   ]
  },
  {
   "cell_type": "code",
   "execution_count": 2,
   "metadata": {},
   "outputs": [],
   "source": [
    "logging.log(25,'25 level log')  # logs a message with integer level 25"
   ]
  },
  {
   "cell_type": "code",
   "execution_count": 3,
   "metadata": {},
   "outputs": [],
   "source": [
    "import logging\n",
    "\n",
    "\n",
    "# this creates a custom logger\n",
    "logger=logging.getLogger(__name__)\n",
    "\n",
    "# adding handler to the logger, the logs are saved in 'test.log'\n",
    "Handler=logging.FileHandler('test.log')\n",
    "\n",
    "# formatting the logger lets us set the format the log will be saved\n",
    "Format=logging.Formatter('custom logger - [%(asctime)s] :: %(levelname)s :: %(message)s',datefmt='%d/%m/%Y  %I:%M:%S %p')\n",
    "\n",
    "\n",
    "# setting logging format to the handler\n",
    "Handler.setFormatter(Format)\n",
    "\n",
    "# setting logging level to the handler\n",
    "Handler.setLevel(logging.INFO)\n",
    "\n",
    "# adding handler to the logger\n",
    "logger.addHandler(Handler)"
   ]
  },
  {
   "attachments": {},
   "cell_type": "markdown",
   "metadata": {},
   "source": [
    "- we can add multiple handlers to a logger\n",
    "- so we can have different levels for logger and handler\n",
    "- the logger selects only the logs above its level and pass it to handlers, so even if handler is set on a lower level (like DEBUG) and the logger is set on a higher level (like ERROR), only ERROR level messages are passed to the handler."
   ]
  },
  {
   "cell_type": "code",
   "execution_count": 4,
   "metadata": {},
   "outputs": [],
   "source": [
    "logger.setLevel(35)    # handler is set at INFO (20), but info logs will not be passed"
   ]
  },
  {
   "cell_type": "code",
   "execution_count": 5,
   "metadata": {},
   "outputs": [],
   "source": [
    "logger.debug('This is a debug log')     # this log is not logged\n",
    "logger.error('This is an error log')\n",
    "logger.log(38,'This is a log with level 38')"
   ]
  },
  {
   "cell_type": "code",
   "execution_count": 6,
   "metadata": {},
   "outputs": [
    {
     "name": "stderr",
     "output_type": "stream",
     "text": [
      "logger now prints to the console\n"
     ]
    }
   ],
   "source": [
    "# StreamHandler is added to stream the log to console \n",
    "sHandler = logging.StreamHandler()\n",
    "logger.addHandler(sHandler)\n",
    "\n",
    "logger.log(40,'logger now prints to the console')"
   ]
  },
  {
   "cell_type": "code",
   "execution_count": 7,
   "metadata": {},
   "outputs": [],
   "source": [
    "logging.shutdown()"
   ]
  },
  {
   "attachments": {},
   "cell_type": "markdown",
   "metadata": {},
   "source": [
    "### logging Formatting\n",
    "| Format | Description |\n",
    "| ------ | ----------- |\n",
    "| %(asctime)s | date and time when the log was created |\n",
    "| %(created)f | time when log was created (as returned by time.time()) |\n",
    "| %(filename)s | filename portion of the pathname |\n",
    "| %(funcname)s | name of function containing logging call |\n",
    "| %(levelno)s | numeric logging level |\n",
    "| %(message)s | logged message |\n",
    "| %(msecs)d | milli seconds portion |\n",
    "| %(lineno)d | line number |\n",
    "| %(name)s | name of the logger |\n",
    "| %(pathname)s | full pathname of source file if available |"
   ]
  }
 ],
 "metadata": {
  "kernelspec": {
   "display_name": "py11env",
   "language": "python",
   "name": "python3"
  },
  "language_info": {
   "codemirror_mode": {
    "name": "ipython",
    "version": 3
   },
   "file_extension": ".py",
   "mimetype": "text/x-python",
   "name": "python",
   "nbconvert_exporter": "python",
   "pygments_lexer": "ipython3",
   "version": "3.11.0"
  },
  "orig_nbformat": 4
 },
 "nbformat": 4,
 "nbformat_minor": 2
}
