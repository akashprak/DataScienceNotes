{
 "cells": [
  {
   "attachments": {},
   "cell_type": "markdown",
   "metadata": {},
   "source": [
    "## Exception Handling\n",
    "| Name | Description |\n",
    "| ---- | ----------- |\n",
    "| **try** | test a block of code for errors |\n",
    "| **except** | handle the error |\n",
    "| **else** | to execute when there is no error |\n",
    "| **finally** | executes regardless of the result of try and except blocks |\n",
    "| **raise** | to raise an exception |\n",
    "\n",
    "<br>\n",
    "\n",
    "> except works only on runtime errors, for compile time errors, program shows error."
   ]
  },
  {
   "cell_type": "code",
   "execution_count": 1,
   "metadata": {},
   "outputs": [
    {
     "name": "stdout",
     "output_type": "stream",
     "text": [
      "error : name 'k' is not defined\n"
     ]
    }
   ],
   "source": [
    "try:\n",
    "    print(k)    # not defined\n",
    "except Exception as e:\n",
    "    print('error :',e)"
   ]
  },
  {
   "cell_type": "code",
   "execution_count": 3,
   "metadata": {},
   "outputs": [
    {
     "name": "stdout",
     "output_type": "stream",
     "text": [
      "Type error occured\n",
      "program finished\n"
     ]
    }
   ],
   "source": [
    "try:\n",
    "    print('hello world'+2)\n",
    "except TypeError:\n",
    "    print('Type error occured')\n",
    "except:\n",
    "    print('something went wrong')\n",
    "else:\n",
    "    print('Nothing went wrong')\n",
    "finally:\n",
    "    print('program finished')"
   ]
  },
  {
   "cell_type": "code",
   "execution_count": 4,
   "metadata": {},
   "outputs": [
    {
     "ename": "Exception",
     "evalue": "An error occured",
     "output_type": "error",
     "traceback": [
      "\u001b[1;31m---------------------------------------------------------------------------\u001b[0m",
      "\u001b[1;31mException\u001b[0m                                 Traceback (most recent call last)",
      "Cell \u001b[1;32mIn[4], line 1\u001b[0m\n\u001b[1;32m----> 1\u001b[0m \u001b[39mraise\u001b[39;00m \u001b[39mException\u001b[39;00m(\u001b[39m'\u001b[39m\u001b[39mAn error occured\u001b[39m\u001b[39m'\u001b[39m)\n",
      "\u001b[1;31mException\u001b[0m: An error occured"
     ]
    }
   ],
   "source": [
    "raise Exception('An error occured')"
   ]
  },
  {
   "cell_type": "code",
   "execution_count": 6,
   "metadata": {},
   "outputs": [
    {
     "ename": "ZeroDivisionError",
     "evalue": "custom  Zero division error",
     "output_type": "error",
     "traceback": [
      "\u001b[1;31m---------------------------------------------------------------------------\u001b[0m",
      "\u001b[1;31mZeroDivisionError\u001b[0m                         Traceback (most recent call last)",
      "Cell \u001b[1;32mIn[6], line 1\u001b[0m\n\u001b[1;32m----> 1\u001b[0m \u001b[39mraise\u001b[39;00m \u001b[39mZeroDivisionError\u001b[39;00m(\u001b[39m'\u001b[39m\u001b[39mcustom  Zero division error\u001b[39m\u001b[39m'\u001b[39m)\n",
      "\u001b[1;31mZeroDivisionError\u001b[0m: custom  Zero division error"
     ]
    }
   ],
   "source": [
    "raise ZeroDivisionError('custom  Zero division error')"
   ]
  },
  {
   "attachments": {},
   "cell_type": "markdown",
   "metadata": {},
   "source": [
    "### assert\n",
    "`assert [condition],[error message]`"
   ]
  },
  {
   "cell_type": "code",
   "execution_count": 9,
   "metadata": {},
   "outputs": [
    {
     "ename": "AssertionError",
     "evalue": "only positive numbers allowed",
     "output_type": "error",
     "traceback": [
      "\u001b[1;31m---------------------------------------------------------------------------\u001b[0m",
      "\u001b[1;31mAssertionError\u001b[0m                            Traceback (most recent call last)",
      "Cell \u001b[1;32mIn[9], line 2\u001b[0m\n\u001b[0;32m      1\u001b[0m x\u001b[39m=\u001b[39m\u001b[39m-\u001b[39m\u001b[39m1\u001b[39m\n\u001b[1;32m----> 2\u001b[0m \u001b[39massert\u001b[39;00m x\u001b[39m>\u001b[39m\u001b[39m0\u001b[39m, \u001b[39m'\u001b[39m\u001b[39monly positive numbers allowed\u001b[39m\u001b[39m'\u001b[39m\n",
      "\u001b[1;31mAssertionError\u001b[0m: only positive numbers allowed"
     ]
    }
   ],
   "source": [
    "x=-1\n",
    "assert x>0, 'only positive numbers allowed'"
   ]
  },
  {
   "attachments": {},
   "cell_type": "markdown",
   "metadata": {},
   "source": [
    "#### **sys.exc_info()**"
   ]
  },
  {
   "cell_type": "code",
   "execution_count": 15,
   "metadata": {},
   "outputs": [
    {
     "name": "stdout",
     "output_type": "stream",
     "text": [
      "(<class 'ZeroDivisionError'>, ZeroDivisionError('division by zero'), <traceback object at 0x00000260F3BA4200>)\n"
     ]
    }
   ],
   "source": [
    "import sys\n",
    "try:\n",
    "    1/0\n",
    "except Exception:\n",
    "    print(sys.exc_info())  # information about current exception"
   ]
  }
 ],
 "metadata": {
  "kernelspec": {
   "display_name": "py11env",
   "language": "python",
   "name": "python3"
  },
  "language_info": {
   "codemirror_mode": {
    "name": "ipython",
    "version": 3
   },
   "file_extension": ".py",
   "mimetype": "text/x-python",
   "name": "python",
   "nbconvert_exporter": "python",
   "pygments_lexer": "ipython3",
   "version": "3.11.0"
  },
  "orig_nbformat": 4
 },
 "nbformat": 4,
 "nbformat_minor": 2
}
