{
 "cells": [
  {
   "attachments": {},
   "cell_type": "markdown",
   "metadata": {},
   "source": [
    "### Python String Methods\n",
    "- string is an immutable datatype\n",
    "- since it is immutable no operations are inplace on a string"
   ]
  },
  {
   "attachments": {},
   "cell_type": "markdown",
   "metadata": {},
   "source": [
    "#### **.replace()**"
   ]
  },
  {
   "cell_type": "code",
   "execution_count": 5,
   "metadata": {},
   "outputs": [
    {
     "name": "stdout",
     "output_type": "stream",
     "text": [
      "he$$o world \n",
      "\n",
      "hello world\n"
     ]
    }
   ],
   "source": [
    "S = 'hello world'\n",
    "\n",
    "# count is an optional argument\n",
    "print(S.replace('l','$',2), '\\n')\n",
    "\n",
    "# string is immutable, so the operation is not inplace\n",
    "print(S)"
   ]
  },
  {
   "attachments": {},
   "cell_type": "markdown",
   "metadata": {},
   "source": [
    "#### **.split()** : splits the string where there are space characters by default\n",
    "#### **.rsplit()** : splits the string starting from the right\n",
    "#### **.splitlines()** : splits the string at linebreaks\n",
    "#### **.partition()** : splits the string into 3 parts at the separator"
   ]
  },
  {
   "cell_type": "code",
   "execution_count": 44,
   "metadata": {},
   "outputs": [
    {
     "name": "stdout",
     "output_type": "stream",
     "text": [
      "['HELLO', 'world']\n",
      "['HELLO wor', 'd']\n",
      "['first sentence.', 'second sentence.']\n",
      "('good ', 'better', ' best')\n"
     ]
    }
   ],
   "source": [
    "print(S.split())\n",
    " \n",
    "print(S.rsplit('l',2))\n",
    "\n",
    "st = '''first sentence.\n",
    "second sentence.\n",
    "'''\n",
    "print(st.splitlines())\n",
    "\n",
    "print('good better best'.partition('better'))"
   ]
  },
  {
   "attachments": {},
   "cell_type": "markdown",
   "metadata": {},
   "source": [
    "#### **.upper()**\n",
    "#### **.lower()**\n",
    "#### **.title()**\n",
    "#### **.capitalize()**\n",
    "#### **.swapcase()**\n"
   ]
  },
  {
   "cell_type": "code",
   "execution_count": 9,
   "metadata": {},
   "outputs": [
    {
     "name": "stdout",
     "output_type": "stream",
     "text": [
      "HELLO WORLD\n",
      "hello world\n",
      "Hello World\n",
      "Hello world\n",
      "hello WORLD\n",
      "S= HELLO world\n"
     ]
    }
   ],
   "source": [
    "S = 'HELLO world'\n",
    "print(S.upper())\n",
    "print(S.lower())\n",
    "print(S.title())\n",
    "print(S.capitalize())   # capitalizes the first element of the string.\n",
    "print(S.swapcase())\n",
    "\n",
    "# string methods are not inplace\n",
    "print('S=',S)"
   ]
  },
  {
   "attachments": {},
   "cell_type": "markdown",
   "metadata": {},
   "source": [
    "#### **.join()**"
   ]
  },
  {
   "cell_type": "code",
   "execution_count": 14,
   "metadata": {},
   "outputs": [
    {
     "name": "stdout",
     "output_type": "stream",
     "text": [
      "H*E*L*L*O* *w*o*r*l*d\n",
      "d*l*r*o*w* *O*L*L*E*H\n"
     ]
    }
   ],
   "source": [
    "print('*'.join(S))\n",
    "\n",
    "print('*'.join(reversed(S)))    # reversed returns the reversed form of the argument"
   ]
  },
  {
   "attachments": {},
   "cell_type": "markdown",
   "metadata": {},
   "source": [
    "#### **.strip()** : By default, removes  the whitespace from both sides of the string. Removes the character if it is given.\n",
    "#### **.lstrip()** : strips the string from the left.\n",
    "#### **.rstrip()** : strips the string from right.\n",
    "> these methods works only on the sides of the string, not inside."
   ]
  },
  {
   "cell_type": "code",
   "execution_count": 15,
   "metadata": {},
   "outputs": [
    {
     "data": {
      "text/plain": [
       "'python  '"
      ]
     },
     "execution_count": 15,
     "metadata": {},
     "output_type": "execute_result"
    }
   ],
   "source": [
    "s = '  python  '\n",
    "s.lstrip()"
   ]
  },
  {
   "attachments": {},
   "cell_type": "markdown",
   "metadata": {},
   "source": [
    "#### **.center()** : centers the string with total length as the given argument.\n",
    "#### **.ljust()** : left justified version of string.\n",
    "#### **.rjust()** : right justified version of the string."
   ]
  },
  {
   "cell_type": "code",
   "execution_count": 28,
   "metadata": {},
   "outputs": [
    {
     "name": "stdout",
     "output_type": "stream",
     "text": [
      "++apple+++\n",
      "       grape\n"
     ]
    }
   ],
   "source": [
    "print('apple'.center(10,'+'))  # default fill character is whitespace\n",
    "\n",
    "print('grape'.rjust(12))"
   ]
  },
  {
   "attachments": {},
   "cell_type": "markdown",
   "metadata": {},
   "source": [
    "#### **.isupper()** : checks if all characters in the string is uppercase\n",
    "#### **.islower()** : checks if all characters in the string is lowercase\n",
    "#### **.isspace()** : checks if the string is space characters\n",
    "#### **.istitle()** : checks if the string is titlecase"
   ]
  },
  {
   "cell_type": "code",
   "execution_count": 25,
   "metadata": {},
   "outputs": [
    {
     "name": "stdout",
     "output_type": "stream",
     "text": [
      "False\n",
      "True\n"
     ]
    }
   ],
   "source": [
    "print('  1'.isspace())\n",
    "print('orange'.islower())"
   ]
  },
  {
   "attachments": {},
   "cell_type": "markdown",
   "metadata": {},
   "source": [
    "#### **.isdecimal()** : checks if the string is a decimal or not\n",
    "#### **.isdigit()** : checks if the string characters are digits (special fraction characters return True)\n",
    "#### **.isnumeric()** : checks if the string is numeric (special characters like Roman numerals return True)\n",
    "#### **.isalpha()** : checks if the string is an alphabet\n",
    "#### **.isalnum()** : checks if the string is alphanumeric\n",
    "#### **.isascii()** : returns True if characters in the string are ASCII\n",
    "\n",
    "ref : https://tutorial.eyehunts.com/python/isnumeric-vs-isdigit-vs-isdecimal-python/"
   ]
  },
  {
   "cell_type": "code",
   "execution_count": 31,
   "metadata": {},
   "outputs": [
    {
     "name": "stdout",
     "output_type": "stream",
     "text": [
      "True\n",
      "False\n",
      "True\n"
     ]
    }
   ],
   "source": [
    "print('122'.isdecimal())\n",
    "print('aty11#'.isalnum())\n",
    "print(''.isascii())"
   ]
  },
  {
   "cell_type": "code",
   "execution_count": 33,
   "metadata": {},
   "outputs": [
    {
     "data": {
      "text/plain": [
       "False"
      ]
     },
     "execution_count": 33,
     "metadata": {},
     "output_type": "execute_result"
    }
   ],
   "source": [
    "# isidentifier() checks if the string is a valid identifier\n",
    "# ref : https://www.geeksforgeeks.org/python-keywords-and-identifiers/\n",
    "'1h'.isidentifier()"
   ]
  },
  {
   "attachments": {},
   "cell_type": "markdown",
   "metadata": {},
   "source": [
    "#### **.startswith()**\n",
    "#### **.endsswith()**"
   ]
  },
  {
   "cell_type": "code",
   "execution_count": 34,
   "metadata": {},
   "outputs": [
    {
     "name": "stdout",
     "output_type": "stream",
     "text": [
      "True\n",
      "False\n"
     ]
    }
   ],
   "source": [
    "print('python'.startswith('py'))\n",
    "print('programming'.endswith('ing',0,5))"
   ]
  },
  {
   "attachments": {},
   "cell_type": "markdown",
   "metadata": {},
   "source": [
    "#### **.find()** : finds the lowest index where the argument is found and return -1 on failure\n",
    "#### **.rfind()** : finds the largest index where the argument is found and return -1 on failure\n",
    "#### **.index()** : finds the lowest index where the argument is found and raises ValueError on failure\n",
    "#### **.rindex()** : finds the largest index where the argument is found and raises ValueError on failure"
   ]
  },
  {
   "cell_type": "code",
   "execution_count": 35,
   "metadata": {},
   "outputs": [
    {
     "name": "stdout",
     "output_type": "stream",
     "text": [
      "-1\n",
      "3\n"
     ]
    }
   ],
   "source": [
    "print(\"archimedes\".find('AR'))\n",
    "print(\"galileo\".index(\"i\",1,4))"
   ]
  },
  {
   "attachments": {},
   "cell_type": "markdown",
   "metadata": {},
   "source": [
    "#### **.zfill()** : leading zeroes in integers are not permitted in python, this method fills leading zeroes"
   ]
  },
  {
   "cell_type": "code",
   "execution_count": 45,
   "metadata": {},
   "outputs": [
    {
     "data": {
      "text/plain": [
       "'0001234'"
      ]
     },
     "execution_count": 45,
     "metadata": {},
     "output_type": "execute_result"
    }
   ],
   "source": [
    "'1234'.zfill(7)"
   ]
  }
 ],
 "metadata": {
  "kernelspec": {
   "display_name": "py11env",
   "language": "python",
   "name": "python3"
  },
  "language_info": {
   "codemirror_mode": {
    "name": "ipython",
    "version": 3
   },
   "file_extension": ".py",
   "mimetype": "text/x-python",
   "name": "python",
   "nbconvert_exporter": "python",
   "pygments_lexer": "ipython3",
   "version": "3.11.0"
  },
  "orig_nbformat": 4
 },
 "nbformat": 4,
 "nbformat_minor": 2
}
