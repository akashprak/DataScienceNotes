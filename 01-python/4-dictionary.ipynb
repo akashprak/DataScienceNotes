{
 "cells": [
  {
   "attachments": {},
   "cell_type": "markdown",
   "metadata": {},
   "source": [
    "## Dictionary\n",
    "- Dictionary is the datatype in which elements are stored as key-value pairs\n",
    "- Any hashable value can be a key in a dictionary. eg: 1, True, 'abcd'"
   ]
  },
  {
   "cell_type": "code",
   "execution_count": 1,
   "metadata": {},
   "outputs": [
    {
     "name": "stdout",
     "output_type": "stream",
     "text": [
      "{1: 'abc', 'x': {0, 1, 2}}\n"
     ]
    }
   ],
   "source": [
    "D = {1:'abc', 'x':{0,1,2}}\n",
    "print(D)"
   ]
  },
  {
   "cell_type": "code",
   "execution_count": 2,
   "metadata": {},
   "outputs": [
    {
     "name": "stdout",
     "output_type": "stream",
     "text": [
      "{1: 'abc', 'x': {0, 1, 2}, 0: 'Null'}\n",
      "{0, 1, 2}\n"
     ]
    }
   ],
   "source": [
    "# new elements can be added by just assigning them\n",
    "D[0] = 'Null'\n",
    "print(D)\n",
    "print(D['x'])"
   ]
  },
  {
   "attachments": {},
   "cell_type": "markdown",
   "metadata": {},
   "source": [
    "#### **.get(key, default)** : no error if key is not present"
   ]
  },
  {
   "cell_type": "code",
   "execution_count": 3,
   "metadata": {},
   "outputs": [
    {
     "name": "stdout",
     "output_type": "stream",
     "text": [
      "abc\n",
      "default message : not here\n"
     ]
    }
   ],
   "source": [
    "print(D.get(1))\n",
    "print(D.get('key1','default message : not here'))"
   ]
  },
  {
   "attachments": {},
   "cell_type": "markdown",
   "metadata": {},
   "source": [
    "#### **.clear()**\n",
    "#### **.copy()** : returns a copy (different id)"
   ]
  },
  {
   "cell_type": "code",
   "execution_count": 4,
   "metadata": {},
   "outputs": [
    {
     "name": "stdout",
     "output_type": "stream",
     "text": [
      "id of D :  2209921141696\n",
      "id of F :  2209921109312\n",
      "D = {}\n",
      "F = {1: 'abc', 'x': {0, 1, 2}, 0: 'Null'}\n"
     ]
    }
   ],
   "source": [
    "print('id of D : ',id(D))\n",
    "F = D.copy()\n",
    "print('id of F : ',id(F))\n",
    "\n",
    "# clearing D\n",
    "D.clear()\n",
    "\n",
    "print(f'D = {D}\\nF = {F}')"
   ]
  },
  {
   "attachments": {},
   "cell_type": "markdown",
   "metadata": {},
   "source": [
    "#### **.fromkeys(key, value)**"
   ]
  },
  {
   "cell_type": "code",
   "execution_count": 5,
   "metadata": {},
   "outputs": [
    {
     "name": "stdout",
     "output_type": "stream",
     "text": [
      "{'age1': '20', 'age2': '20'}\n"
     ]
    }
   ],
   "source": [
    "k = ['age1', 'age2']\n",
    "v='20'\n",
    "D = D.fromkeys(k,v)\n",
    "print(D)"
   ]
  },
  {
   "attachments": {},
   "cell_type": "markdown",
   "metadata": {},
   "source": [
    "#### **.items()** : returns the key value pairs of dict in a tuple\n",
    "#### **.keys()** : returns the keys of the dictionary\n",
    "#### **.values()** : returns the values in the dictionary"
   ]
  },
  {
   "cell_type": "code",
   "execution_count": 6,
   "metadata": {},
   "outputs": [
    {
     "name": "stdout",
     "output_type": "stream",
     "text": [
      "dict_items([('age1', '20'), ('age2', '20')])\n",
      "dict_keys(['age1', 'age2'])\n",
      "dict_values(['20', '20'])\n"
     ]
    }
   ],
   "source": [
    "print(D.items())\n",
    "print(D.keys())\n",
    "print(D.values())"
   ]
  },
  {
   "attachments": {},
   "cell_type": "markdown",
   "metadata": {},
   "source": [
    "#### **.setdefault(key, default)** : prints a value if present or sets the key to default and add\n",
    "#### **.update()**\n",
    "#### **.pop()** : remove key and return value, else default\n",
    "#### **.popitem** : remove and return (key, value) pair from dictionary in LIFO order"
   ]
  },
  {
   "cell_type": "code",
   "execution_count": 7,
   "metadata": {},
   "outputs": [
    {
     "name": "stdout",
     "output_type": "stream",
     "text": [
      "{'key 1': None}\n",
      "{'key 1': None, 'key2': 'value2', 'key3': 3, 'k4': 'value4'}\n",
      "value4\n",
      "('key3', 3)\n",
      "{'key 1': None, 'key2': 'value2'}\n"
     ]
    }
   ],
   "source": [
    "D = {}  # curly braces initialize a dict, not set\n",
    "D.setdefault('key 1')\n",
    "print(D)\n",
    "\n",
    "D.update(key2='value2')\n",
    "D.update({'key3':3,'k4':'value4'})\n",
    "print(D)\n",
    "\n",
    "print(D.pop('k4', 'error message')) #prints the value of k4, ie, 'value4'\n",
    "\n",
    "print(D.popitem())  # removes the last key, now 'key3' here\n",
    "print(D)"
   ]
  },
  {
   "attachments": {},
   "cell_type": "markdown",
   "metadata": {},
   "source": [
    "### **dict comprehension**"
   ]
  },
  {
   "cell_type": "code",
   "execution_count": 1,
   "metadata": {},
   "outputs": [
    {
     "name": "stdout",
     "output_type": "stream",
     "text": [
      "{1: 1, 2: 4, 3: 9, 4: 16, 5: 25, 6: 36, 7: 49, 8: 64, 9: 81, 10: 100}\n"
     ]
    }
   ],
   "source": [
    "D1 = {i:i**2 for i in range(1,11)}\n",
    "print(D1)"
   ]
  }
 ],
 "metadata": {
  "kernelspec": {
   "display_name": "py11env",
   "language": "python",
   "name": "python3"
  },
  "language_info": {
   "codemirror_mode": {
    "name": "ipython",
    "version": 3
   },
   "file_extension": ".py",
   "mimetype": "text/x-python",
   "name": "python",
   "nbconvert_exporter": "python",
   "pygments_lexer": "ipython3",
   "version": "3.11.0"
  },
  "orig_nbformat": 4
 },
 "nbformat": 4,
 "nbformat_minor": 2
}
