{
 "cells": [
  {
   "attachments": {},
   "cell_type": "markdown",
   "metadata": {},
   "source": [
    "## Functions\n",
    "- Positional argument cannot follow keyword argument\n",
    "- Non default argument cannot follow default argument"
   ]
  },
  {
   "cell_type": "code",
   "execution_count": 8,
   "metadata": {},
   "outputs": [],
   "source": [
    "# y has the default value 0\n",
    "def func(x,y=0):\n",
    "    pass\n",
    "\n",
    "func(10,20)\n",
    "func(x=10,y=20)\n",
    "func(10,y=20)\n",
    "func(x=50)  # y is default"
   ]
  },
  {
   "cell_type": "code",
   "execution_count": 28,
   "metadata": {},
   "outputs": [
    {
     "ename": "SyntaxError",
     "evalue": "positional argument follows keyword argument (2516252967.py, line 2)",
     "output_type": "error",
     "traceback": [
      "\u001b[1;36m  Cell \u001b[1;32mIn[28], line 2\u001b[1;36m\u001b[0m\n\u001b[1;33m    func(y=5,5)\u001b[0m\n\u001b[1;37m              ^\u001b[0m\n\u001b[1;31mSyntaxError\u001b[0m\u001b[1;31m:\u001b[0m positional argument follows keyword argument\n"
     ]
    }
   ],
   "source": [
    "# error\n",
    "func(y=5,5)"
   ]
  },
  {
   "cell_type": "code",
   "execution_count": 29,
   "metadata": {},
   "outputs": [
    {
     "ename": "SyntaxError",
     "evalue": "non-default argument follows default argument (3303292625.py, line 2)",
     "output_type": "error",
     "traceback": [
      "\u001b[1;36m  Cell \u001b[1;32mIn[29], line 2\u001b[1;36m\u001b[0m\n\u001b[1;33m    def f(x=1,y):\u001b[0m\n\u001b[1;37m              ^\u001b[0m\n\u001b[1;31mSyntaxError\u001b[0m\u001b[1;31m:\u001b[0m non-default argument follows default argument\n"
     ]
    }
   ],
   "source": [
    "# error\n",
    "def f(x=1,y):\n",
    "    pass"
   ]
  },
  {
   "attachments": {},
   "cell_type": "markdown",
   "metadata": {},
   "source": [
    "###"
   ]
  },
  {
   "attachments": {},
   "cell_type": "markdown",
   "metadata": {},
   "source": [
    "#### **\\*args** : variable length argument\n",
    "#### **\\*\\*kwargs** : variable length keyword argument\n",
    "> 'args' and 'kwargs' are just a notation, anything else can be used if preferred.  \n",
    "```\n",
    "def func(**apple):\n",
    "    pass\n",
    "```"
   ]
  },
  {
   "cell_type": "code",
   "execution_count": 11,
   "metadata": {},
   "outputs": [],
   "source": [
    "def func1(*args):   # returns tuple\n",
    "    pass\n",
    "\n",
    "func1(1,2,3,3,4,5,6)\n",
    "\n",
    "def func2(**kwargs):\n",
    "    pass\n",
    "\n",
    "func2(a=1,b=2,c=3)"
   ]
  },
  {
   "attachments": {},
   "cell_type": "markdown",
   "metadata": {},
   "source": [
    "#### **Note**:\n",
    "- if we have any other argument along with variable length argument, then it should be passed before the variable length argument.  \n",
    "    ```\n",
    "    def addx(n,*args):\n",
    "        pass\n",
    "    ```\n",
    "- if an argument is used after variable length argument, we must pass it as a keyword argument.  \n",
    "    ```\n",
    "    def addx(*a, n):\n",
    "        pass\n",
    "\n",
    "    print(10,20,n=100)\n",
    "    ```"
   ]
  },
  {
   "attachments": {},
   "cell_type": "markdown",
   "metadata": {},
   "source": [
    "#### **return**"
   ]
  },
  {
   "cell_type": "code",
   "execution_count": 17,
   "metadata": {},
   "outputs": [
    {
     "name": "stdout",
     "output_type": "stream",
     "text": [
      "105\n",
      "(10, 20, 30)\n"
     ]
    }
   ],
   "source": [
    "def func(a,b):\n",
    "    return a+b\n",
    "\n",
    "print(func(100,5))\n",
    "\n",
    "# multiple return values are returned in a tuple\n",
    "def func1(a,b,c):\n",
    "    return a,b,c\n",
    "\n",
    "print(func1(10,20,30))"
   ]
  },
  {
   "attachments": {},
   "cell_type": "markdown",
   "metadata": {},
   "source": [
    "#### **global** : the variables assigned inside a function are of local scope, \"global\" keyword can be used to make a variable global"
   ]
  },
  {
   "cell_type": "code",
   "execution_count": 27,
   "metadata": {},
   "outputs": [
    {
     "name": "stdout",
     "output_type": "stream",
     "text": [
      "100\n"
     ]
    },
    {
     "data": {
      "text/plain": [
       "'melon'"
      ]
     },
     "execution_count": 27,
     "metadata": {},
     "output_type": "execute_result"
    }
   ],
   "source": [
    "k=99\n",
    "def func():\n",
    "    global new  # assigning a global variable inside function\n",
    "    new = 'melon'\n",
    "\n",
    "    global k    # since k is not passed as an argument, func will not recognize k without 'global'\n",
    "    k+=1\n",
    "    return k\n",
    "\n",
    "print(func())\n",
    "new"
   ]
  },
  {
   "attachments": {},
   "cell_type": "markdown",
   "metadata": {},
   "source": [
    "#### **lambda function** : lambda is used to create a function in one line"
   ]
  },
  {
   "cell_type": "code",
   "execution_count": 14,
   "metadata": {},
   "outputs": [
    {
     "name": "stdout",
     "output_type": "stream",
     "text": [
      "50\n",
      "2\n"
     ]
    }
   ],
   "source": [
    "mul = lambda a,b: a*b\n",
    "\n",
    "# using ternary operator\n",
    "greater = lambda a,b : a if a>b else b\n",
    "\n",
    "print(mul(5,10))\n",
    "print(greater(-10,2))"
   ]
  },
  {
   "attachments": {},
   "cell_type": "markdown",
   "metadata": {},
   "source": [
    "#### **type()**\n",
    "#### **isinstance()** : returns whether an object is an instance of a class"
   ]
  },
  {
   "cell_type": "code",
   "execution_count": 2,
   "metadata": {},
   "outputs": [
    {
     "name": "stdout",
     "output_type": "stream",
     "text": [
      "<class 'str'>\n",
      "<class 'int'>\n",
      "<class 'complex'>\n"
     ]
    }
   ],
   "source": [
    "a='apple'\n",
    "b=100\n",
    "c=15+9j\n",
    "\n",
    "print(type(a))\n",
    "print(type(b))\n",
    "print(type(c))"
   ]
  },
  {
   "cell_type": "code",
   "execution_count": 3,
   "metadata": {},
   "outputs": [
    {
     "name": "stdout",
     "output_type": "stream",
     "text": [
      "False\n",
      "True\n"
     ]
    }
   ],
   "source": [
    "print(isinstance(a,tuple))  # print false since 'a' is of type str\n",
    "print(isinstance(c,(int,float,complex)))    # checks if the type is in the given tuple"
   ]
  },
  {
   "attachments": {},
   "cell_type": "markdown",
   "metadata": {},
   "source": [
    "### Decorator\n",
    "- decorators are used give additional functionality to a function\n",
    "```\n",
    "@decorator\n",
    "def test():\n",
    "    pass\n",
    "```\n",
    "- using a decorator is equivalent to :\n",
    "    > test = decorator( test )"
   ]
  },
  {
   "cell_type": "code",
   "execution_count": 7,
   "metadata": {},
   "outputs": [
    {
     "name": "stdout",
     "output_type": "stream",
     "text": [
      "enter decorator\n",
      "printing inside function\n",
      "exit decorator\n"
     ]
    }
   ],
   "source": [
    "def decorator(fn):\n",
    "    def test():\n",
    "        print('enter decorator')\n",
    "        fn()\n",
    "        print('exit decorator')\n",
    "    return test\n",
    "\n",
    "@decorator\n",
    "def func():\n",
    "    print('printing inside function')\n",
    "\n",
    "func()"
   ]
  },
  {
   "attachments": {},
   "cell_type": "markdown",
   "metadata": {},
   "source": [
    "## Useful libraries"
   ]
  },
  {
   "attachments": {},
   "cell_type": "markdown",
   "metadata": {},
   "source": [
    "### datetime"
   ]
  },
  {
   "cell_type": "code",
   "execution_count": 1,
   "metadata": {},
   "outputs": [
    {
     "data": {
      "text/plain": [
       "datetime.datetime(2023, 5, 1, 16, 31, 47, 137791)"
      ]
     },
     "execution_count": 1,
     "metadata": {},
     "output_type": "execute_result"
    }
   ],
   "source": [
    "from datetime import datetime\n",
    "\n",
    "#gives current date and time\n",
    "datetime.now()"
   ]
  },
  {
   "cell_type": "code",
   "execution_count": 2,
   "metadata": {},
   "outputs": [
    {
     "name": "stdout",
     "output_type": "stream",
     "text": [
      "16\n",
      "2023-05-01\n"
     ]
    }
   ],
   "source": [
    "print(datetime.now().time().hour)\n",
    "print(datetime.now().date())"
   ]
  },
  {
   "cell_type": "code",
   "execution_count": 14,
   "metadata": {},
   "outputs": [
    {
     "name": "stdout",
     "output_type": "stream",
     "text": [
      "01/05/2023\n",
      "05/01/23\n",
      "01/May/23\n",
      "16 hour :38 minute :43 seconds\n"
     ]
    }
   ],
   "source": [
    "# different formatting\n",
    "print(datetime.now().strftime(\"%d/%m/%Y\"))\n",
    "print(datetime.now().strftime(\"%D\"))\n",
    "print(datetime.now().strftime(\"%d/%B/%y\"))\n",
    "print(datetime.now().strftime(\"%H hour :%M minute :%S seconds\"))\n",
    "\n",
    "# %H - 24hr time\n",
    "# %I - 12hr time"
   ]
  },
  {
   "attachments": {},
   "cell_type": "markdown",
   "metadata": {},
   "source": [
    "### time"
   ]
  },
  {
   "cell_type": "code",
   "execution_count": 16,
   "metadata": {},
   "outputs": [],
   "source": [
    "import time\n",
    "\n",
    "# sleep for given number of seconds\n",
    "time.sleep(1)"
   ]
  },
  {
   "attachments": {},
   "cell_type": "markdown",
   "metadata": {},
   "source": [
    "### open"
   ]
  },
  {
   "cell_type": "code",
   "execution_count": 17,
   "metadata": {},
   "outputs": [
    {
     "name": "stdout",
     "output_type": "stream",
     "text": [
      "1\n",
      "2\n"
     ]
    }
   ],
   "source": [
    "file = open(\"numbers.txt\")\n",
    "\n",
    "# read the full text by default, otherwise specified number of characters\n",
    "k = file.read(3)\n",
    "print(k)\n",
    "file.close()    # opened file must be closed after operation"
   ]
  },
  {
   "attachments": {},
   "cell_type": "markdown",
   "metadata": {},
   "source": [
    "**open** has a mode argument which is text and read by default\n",
    "| mode | description |\n",
    "| ---- | ----------- |\n",
    "| **read mode** | |\n",
    "| \"r\" | read (default) | \n",
    "| \"a\" | append |\n",
    "| \"r+\" | read and write |\n",
    "| \"a+\" | append and read |\n",
    "| \"w\" | write |\n",
    "| \"w+\" | write and read |\n",
    "| \"x\" | create |\n",
    "| **file mode** | |\n",
    "| \"t\" | text (default) |\n",
    "| \"b\" | binary |"
   ]
  },
  {
   "cell_type": "code",
   "execution_count": 20,
   "metadata": {},
   "outputs": [],
   "source": [
    "# writing bytes string is only to show it's possibility\n",
    "with open(\"demo.jpg\",\"bx\") as f:\n",
    "    f.write(b'\\xff\\xd8\\xff\\xe0\\x00')"
   ]
  },
  {
   "cell_type": "code",
   "execution_count": 28,
   "metadata": {},
   "outputs": [
    {
     "name": "stdout",
     "output_type": "stream",
     "text": [
      "['1\\n', '2\\n', '3\\n', '4\\n', '5\\n', '6\\n', '7\\n', '8\\n', '9\\n', '10']\n",
      "[]\n",
      "['\\n', '8\\n', '9\\n', '10']\n"
     ]
    }
   ],
   "source": [
    "with open('numbers.txt') as f:\n",
    "    print(f.readlines())\n",
    "    print(f.readlines()) # pointer is exhausted\n",
    "    f.seek(20)   #seeking to 20th position\n",
    "    print(f.readlines())"
   ]
  },
  {
   "attachments": {},
   "cell_type": "markdown",
   "metadata": {},
   "source": [
    "- **.readline(int)** - reads the specified number of lines\n",
    "- **.seek()** - seek to the mentioned point\n",
    "- **.write()** - write\n",
    "- **.writelines()** - write by lines"
   ]
  }
 ],
 "metadata": {
  "kernelspec": {
   "display_name": "py11env",
   "language": "python",
   "name": "python3"
  },
  "language_info": {
   "codemirror_mode": {
    "name": "ipython",
    "version": 3
   },
   "file_extension": ".py",
   "mimetype": "text/x-python",
   "name": "python",
   "nbconvert_exporter": "python",
   "pygments_lexer": "ipython3",
   "version": "3.11.0"
  },
  "orig_nbformat": 4
 },
 "nbformat": 4,
 "nbformat_minor": 2
}
