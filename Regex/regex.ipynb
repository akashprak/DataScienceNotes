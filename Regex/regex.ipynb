{
 "cells": [
  {
   "attachments": {},
   "cell_type": "markdown",
   "metadata": {},
   "source": [
    "### Regular Expressions - regex"
   ]
  },
  {
   "cell_type": "code",
   "execution_count": 1,
   "metadata": {},
   "outputs": [
    {
     "data": {
      "text/plain": [
       "['98-09', '77-87']"
      ]
     },
     "execution_count": 1,
     "metadata": {},
     "output_type": "execute_result"
    }
   ],
   "source": [
    "import re\n",
    "\n",
    "numRegex = re.compile(r'\\d\\d-\\d\\d')     # regex to find two sets of number together separated hy hyphen\n",
    "mo = numRegex.findall('numbers 65 78 98-09 567-8 77-87')\n",
    "mo"
   ]
  },
  {
   "attachments": {},
   "cell_type": "markdown",
   "metadata": {},
   "source": [
    "The `findall()` method return list of strings of every match in the searched string and the `search()` method returns the search object of the first matched text."
   ]
  },
  {
   "attachments": {},
   "cell_type": "markdown",
   "metadata": {},
   "source": [
    "Adding parentheses will create groups in the regex. The **group()** match object can be used to select the matching text from one group"
   ]
  },
  {
   "cell_type": "code",
   "execution_count": 2,
   "metadata": {},
   "outputs": [
    {
     "name": "stdout",
     "output_type": "stream",
     "text": [
      "23-56\n",
      "23\n",
      "56\n",
      "('23', '56')\n"
     ]
    }
   ],
   "source": [
    "numRegex = re.compile(r'(\\d\\d)-(\\d\\d)')\n",
    "mo = numRegex.search('numbers 23-56')\n",
    "print(mo.group())   # prints entire match\n",
    "print(mo.group(1))  # prints the 1st group\n",
    "print(mo.group(2))  # prints the 2nd group\n",
    "print(mo.groups())  # prints all groups"
   ]
  },
  {
   "attachments": {},
   "cell_type": "markdown",
   "metadata": {},
   "source": [
    "characters have special meaning in regex, like parantheses, so to use them for matching they need to be escaped with `\\`  \n",
    "the following characters have special meanings:  \n",
    "`. ^ $ * + ? { } [ ] \\ ( ) |`"
   ]
  },
  {
   "attachments": {},
   "cell_type": "markdown",
   "metadata": {},
   "source": [
    "The `|` operator, called the pipe, is used to match multiple expressions."
   ]
  },
  {
   "cell_type": "code",
   "execution_count": 3,
   "metadata": {},
   "outputs": [
    {
     "name": "stdout",
     "output_type": "stream",
     "text": [
      "apple\n",
      "orange\n"
     ]
    }
   ],
   "source": [
    "# if both the epressions occur in search, the first match is returned\n",
    "orRegex = re.compile(r'apple|orange')\n",
    "mo1 = orRegex.search('red apples')\n",
    "mo2 = orRegex.search('oranges and apples')\n",
    "print(mo1.group())\n",
    "print(mo2.group())"
   ]
  },
  {
   "attachments": {},
   "cell_type": "markdown",
   "metadata": {},
   "source": [
    "- `?` is used for optional matching - matches 0 or 1 instance of the optional pattern\n",
    "- `*` matches 0 or more of the group preceeding the star character\n",
    "- `+` matches 1 or more of the preceeding group"
   ]
  },
  {
   "cell_type": "code",
   "execution_count": 4,
   "metadata": {},
   "outputs": [
    {
     "name": "stdout",
     "output_type": "stream",
     "text": [
      "76576576ABCDE\n",
      "('ABCDE',)\n"
     ]
    }
   ],
   "source": [
    "r = re.compile(r'\\d+(\\D\\D\\D\\D\\D)+')\n",
    "m = r.search('76576576ABCDE876h76')\n",
    "print(m.group())\n",
    "print(m.groups())"
   ]
  },
  {
   "attachments": {},
   "cell_type": "markdown",
   "metadata": {},
   "source": [
    "`{}`, curly brackets are used to indicate the number of times a group will be repeated in the pattern or the range of repetitions."
   ]
  },
  {
   "cell_type": "code",
   "execution_count": 5,
   "metadata": {},
   "outputs": [
    {
     "name": "stdout",
     "output_type": "stream",
     "text": [
      "AAA\n",
      "['AA', 'AAA']\n",
      "AAAAA\n"
     ]
    }
   ],
   "source": [
    "print( re.search(r'A{3}', 'abcd xyz AA AAA').group())   # AA will not be matched, only AAA\n",
    "print( re.findall(r'A{1,3}', 'abcd xyz AA AAA'))\n",
    "print( re.search(r'A{4,}', 'abcd xyz AAAAA').group())   # matches 4 or more"
   ]
  },
  {
   "attachments": {},
   "cell_type": "markdown",
   "metadata": {},
   "source": [
    "#### **Greedy and Non-Greedy matching**  \n",
    "Regular expressions are greedy by default, they match the longest string in ambiguous situations.  \n",
    "The Non-greedy (lazy) version, **brace/repetition followed by a question mark**  `( {}?, \\d+? )`, matches the shortest string possible"
   ]
  },
  {
   "cell_type": "code",
   "execution_count": 6,
   "metadata": {},
   "outputs": [
    {
     "name": "stdout",
     "output_type": "stream",
     "text": [
      "AA\n"
     ]
    }
   ],
   "source": [
    "print(re.search(r'A{2,10}?', 'AAAAAA').group())"
   ]
  },
  {
   "attachments": {},
   "cell_type": "markdown",
   "metadata": {},
   "source": [
    "#### Character classes\n",
    "| character class | represents |\n",
    "| --------------- | ---------- |\n",
    "| \\d | Any numeric digit from 0 to 9 |\n",
    "| \\D | Any character that is  not a numeric digit |\n",
    "| \\w | any letter, numeric digit or the underscore character |\n",
    "| \\W | any character that is not a letter,digit,underscore |\n",
    "| \\s | any space, tab or newline character |\n",
    "| \\S | any character that is not a space, tab, newline |\n",
    "  \n",
    "`[0-4]` character class will match numbers 0 to 4  \n",
    "`[a-zA-Z]` character class will match alphabets  \n",
    "`[aeiou]` will match lowercase vowels  \n",
    "> symbols like `?, *` etc. need not be escaped inside the square brackets.  \n",
    "\n",
    "placing the caret character `(^)` at the beginning of character calss make it a negative character class. They match all characters except the ones in the class.  \n",
    "`[^AEIOUaeiou]` will match all characters other than vowels"
   ]
  },
  {
   "attachments": {},
   "cell_type": "markdown",
   "metadata": {},
   "source": [
    "#### **caret and dollar sign**  \n",
    "- caret `(^)` at the beginning of the regex means that the match must occur at the beginning of the string.  \n",
    "- dollar sign `($)` at the end indicates the pattern must occur at the end  \n",
    "- caret and dollar sign together indicate that the entire string must match the regex"
   ]
  },
  {
   "cell_type": "code",
   "execution_count": 7,
   "metadata": {},
   "outputs": [
    {
     "data": {
      "text/plain": [
       "'hello'"
      ]
     },
     "execution_count": 7,
     "metadata": {},
     "output_type": "execute_result"
    }
   ],
   "source": [
    "re.search(r'^hello', 'hello world').group()"
   ]
  },
  {
   "cell_type": "code",
   "execution_count": 8,
   "metadata": {},
   "outputs": [
    {
     "data": {
      "text/plain": [
       "True"
      ]
     },
     "execution_count": 8,
     "metadata": {},
     "output_type": "execute_result"
    }
   ],
   "source": [
    "re.search(r'^hello$', 'hello world')==None"
   ]
  },
  {
   "attachments": {},
   "cell_type": "markdown",
   "metadata": {},
   "source": [
    "#### **dot character** - wildcard  \n",
    "The dot character `(.)` , will match everything except the newline  \n",
    "one dot matches one character"
   ]
  },
  {
   "cell_type": "code",
   "execution_count": 9,
   "metadata": {},
   "outputs": [
    {
     "data": {
      "text/plain": [
       "['ABCD', 'A2D A D', 'A_D']"
      ]
     },
     "execution_count": 9,
     "metadata": {},
     "output_type": "execute_result"
    }
   ],
   "source": [
    "re.findall(r'A.+D', 'abcd ABCDEF \\n A2D A D \\n A_D')"
   ]
  },
  {
   "attachments": {},
   "cell_type": "markdown",
   "metadata": {},
   "source": [
    "#### Regex flags\n",
    "| Flag | long syntax | Meaning |\n",
    "| ---- | ----------- | ------- |\n",
    "| re.A | re.ASCII | Perform ASCII-only matching instead of full Unicode matching |\n",
    "| re.I | re.IGNORECASE | Perform case-insensitive matching |\n",
    "| re.M | re.MULTILINE | This flag is used with metacharacter `^` (caret) and `$` (dollar).<br> When this flag is specified, the metacharacter `^` matches the pattern at beginning of the string and each newline’s beginning.<br> And the metacharacter `$` matches pattern at the end of the string and the end of each new line |\n",
    "| re.S | re.DOTALL | Make the DOT (.) special character match any character at all, including a newline. Without this flag, DOT(.) will match anything except a newline |\n",
    "| re.X | re.VERBOSE | Allow comment in the regex. This flag is useful to make regex more readable by allowing comments in the regex. |\n",
    "| re.L | re.LOCALE | Perform case-insensitive matching dependent on the current locale. Use only with bytes patterns |\n",
    "  \n",
    "\n",
    "`re.compile()` takes only one flag, so to use multiple flags, the pipe character or `bitwise or` (|) is used.  \n",
    "`re.compile(r'\\w', re.IGNORECASE|re.DOTALL)`\n",
    "  \n",
    "Another method is to add the flags.  \n",
    "`re.compile(r'\\w', flags = re.I+re.X)`"
   ]
  },
  {
   "cell_type": "code",
   "execution_count": 13,
   "metadata": {},
   "outputs": [
    {
     "data": {
      "text/plain": [
       "'APPLE'"
      ]
     },
     "execution_count": 13,
     "metadata": {},
     "output_type": "execute_result"
    }
   ],
   "source": [
    "re.search(r'''\n",
    "                apple   # match apple''', '2 APPLES', re.I+re.X).group()"
   ]
  },
  {
   "attachments": {},
   "cell_type": "markdown",
   "metadata": {},
   "source": [
    "#### `sub()` method\n",
    "`sub()` method is used to substitute new text in place of the matched patterns.  \n",
    "The string to replace argument is followed by string for regular expression.  \n",
    "The `sub()` method returns the string with the substitutions applied.\n",
    "\n",
    "  \n",
    "In the first argument to sub(), we can type, \\1 \\2 \\3 , to mean the 1st,2nd,3rd group matched by the pattern which will not be substituted."
   ]
  },
  {
   "cell_type": "code",
   "execution_count": 11,
   "metadata": {},
   "outputs": [
    {
     "data": {
      "text/plain": [
       "'*****, orange, mango'"
      ]
     },
     "execution_count": 11,
     "metadata": {},
     "output_type": "execute_result"
    }
   ],
   "source": [
    "re.sub('apple', '*****', 'apple, orange, mango')"
   ]
  },
  {
   "cell_type": "code",
   "execution_count": 12,
   "metadata": {},
   "outputs": [
    {
     "data": {
      "text/plain": [
       "'**A**, **B**, **K**'"
      ]
     },
     "execution_count": 12,
     "metadata": {},
     "output_type": "execute_result"
    }
   ],
   "source": [
    "re.sub(r'(\\w)\\d*', r'**\\1**', 'A1, B12, K200')"
   ]
  }
 ],
 "metadata": {
  "kernelspec": {
   "display_name": "py11env",
   "language": "python",
   "name": "python3"
  },
  "language_info": {
   "codemirror_mode": {
    "name": "ipython",
    "version": 3
   },
   "file_extension": ".py",
   "mimetype": "text/x-python",
   "name": "python",
   "nbconvert_exporter": "python",
   "pygments_lexer": "ipython3",
   "version": "3.11.0"
  },
  "orig_nbformat": 4
 },
 "nbformat": 4,
 "nbformat_minor": 2
}
